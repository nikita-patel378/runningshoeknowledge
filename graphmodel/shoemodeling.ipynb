{
 "cells": [
  {
   "cell_type": "code",
   "id": "initial_id",
   "metadata": {
    "collapsed": true,
    "ExecuteTime": {
     "end_time": "2025-01-09T01:53:33.112043Z",
     "start_time": "2025-01-09T01:53:31.628087Z"
    }
   },
   "source": [
    "from neo4j_runway import Discovery, GraphDataModeler, PyIngest, UserInput\n",
    "from neo4j_runway.code_generation import PyIngestConfigGenerator\n",
    "from neo4j_runway.llm.openai import OpenAIDiscoveryLLM, OpenAIDataModelingLLM"
   ],
   "outputs": [],
   "execution_count": 1
  },
  {
   "metadata": {
    "ExecuteTime": {
     "end_time": "2025-01-09T01:53:35.538088Z",
     "start_time": "2025-01-09T01:53:35.529891Z"
    }
   },
   "cell_type": "code",
   "source": [
    "from dotenv import load_dotenv\n",
    "import os"
   ],
   "id": "5d5fd7f9222032a8",
   "outputs": [],
   "execution_count": 2
  },
  {
   "metadata": {
    "ExecuteTime": {
     "end_time": "2025-01-09T01:53:38.419719Z",
     "start_time": "2025-01-09T01:53:38.414194Z"
    }
   },
   "cell_type": "code",
   "source": [
    "load_dotenv(dotenv_path='dot.env')\n",
    "OPENAI_API_KEY = os.getenv(\"OPENAI_API_KEY\")\n",
    "NEO4J_URL = os.getenv(\"NEO4J_URL\")\n",
    "NEO4J_USERNAME = os.getenv(\"NEO4J_USERNAME\")\n",
    "NEO4J_PASSWORD = os.getenv(\"NEO4J_PASSWORD\")"
   ],
   "id": "a13755756bf2f185",
   "outputs": [],
   "execution_count": 3
  },
  {
   "metadata": {
    "ExecuteTime": {
     "end_time": "2025-01-09T01:54:16.745054Z",
     "start_time": "2025-01-09T01:54:16.736590Z"
    }
   },
   "cell_type": "code",
   "source": [
    "from neo4j_runway.utils.data import load_local_files\n",
    "\n",
    "data_directory = \"\"\n",
    "\n",
    "data_dictionary = { 'Name': 'name of shoe.',\n",
    "                    'Brand': 'brand of shoe.',\n",
    "                    'Other Features':'other details about the shoe.',\n",
    "                    'Offset': 'the difference of the stack height of heel and forefoot. also known as heel to toe drop.',\n",
    "                    'Stack Height':'the height of the heel and the height of the forefoot that is given.',\n",
    "                    'Cushioning': 'the level of the cushioning of the shoe.',\n",
    "                    'Foam Cushioning': 'the name of type of foam cushioning used for the shoe.'\n",
    "                    }\n",
    "\n",
    "use_cases = [\"Which shoe has an offset lower than 8mm?\", \"Which shoes have PWRRUN PB foam cushioning?\", \"Which shoe have a carbon plate in other features?\"]\n",
    "\n",
    "data = load_local_files(data_directory=data_directory,\n",
    "                        data_dictionary=data_dictionary,\n",
    "                        general_description=\"This is data about shoes and their attributes.\",\n",
    "                        use_cases=use_cases,\n",
    "                        include_files=[\"shoes.csv\"])"
   ],
   "id": "a819841bc286d702",
   "outputs": [],
   "execution_count": 5
  },
  {
   "metadata": {
    "ExecuteTime": {
     "end_time": "2025-01-09T01:54:22.998714Z",
     "start_time": "2025-01-09T01:54:22.955805Z"
    }
   },
   "cell_type": "code",
   "source": [
    "llm_disc = OpenAIDiscoveryLLM(model_name='gpt-4o-mini-2024-07-18', model_params={\"temperature\": 0})\n",
    "llm_dm = OpenAIDataModelingLLM(model_name='gpt-4o-2024-05-13', model_params={\"temperature\": 0.5})"
   ],
   "id": "daa614c28c0f89e7",
   "outputs": [],
   "execution_count": 6
  },
  {
   "metadata": {
    "ExecuteTime": {
     "end_time": "2025-01-09T01:55:06.691140Z",
     "start_time": "2025-01-09T01:54:23.561033Z"
    }
   },
   "cell_type": "code",
   "source": [
    "disc = Discovery(llm=llm_disc, data=data)\n",
    "disc.run()\n",
    "\n",
    "disc.run(show_result=True, notebook=True)"
   ],
   "id": "e85c3ef9642a52e",
   "outputs": [
    {
     "data": {
      "text/plain": [
       "<IPython.core.display.Markdown object>"
      ],
      "text/markdown": "### Preliminary Analysis of Shoe Data\n\n#### Overall Data Characteristics:\n1. **Total Entries**: The dataset contains 37 entries, indicating a relatively small sample size.\n2. **Data Types**: All features are of type `object`, which suggests that they may contain categorical data or strings. This could limit certain types of analysis unless converted to appropriate types (e.g., numerical for heights).\n3. **Missing Values**: \n   - **Other Features**: 16 missing values (43% missing)\n   - **Stack Height**: 27 missing values (73% missing)\n   - **Cushioning**: 6 missing values (16% missing)\n   - **Foam Cushioning**: 9 missing values (24% missing)\n   This indicates that the dataset has significant missing data in certain columns, particularly in 'Stack Height' and 'Other Features', which may affect analysis and insights.\n\n#### Feature Analysis:\n1. **Name**: \n   - Unique values: 37 (each shoe has a unique name).\n   - This feature is essential for identification but does not provide analytical value.\n\n2. **Brand**: \n   - Unique values: 7 (Nike is the most frequent brand with 7 occurrences).\n   - This feature can help in brand-specific analysis and comparisons.\n\n3. **Other Features**: \n   - Unique values: 12 (with 'Carbon Plate' being the most frequent feature).\n   - This feature is crucial for understanding additional shoe characteristics, but the high number of missing values limits its utility.\n\n4. **Offset**: \n   - Unique values: 9 (most common offset is 8mm).\n   - This feature is important for identifying shoes with specific drop characteristics, relevant for performance and comfort.\n\n5. **Stack Height**: \n   - Unique values: 8 (with a top value of '39.5mm/31.5mm').\n   - The high number of missing values makes this feature less reliable for analysis.\n\n6. **Cushioning**: \n   - Unique values: 14 (most common is 'Max').\n   - This feature is significant for understanding the comfort level of the shoes.\n\n7. **Foam Cushioning**: \n   - Unique values: 16 (most common is 'Helion').\n   - This feature is important for identifying the type of cushioning technology used in the shoes.\n\n#### Important Features for Use Cases:\n- **Offset**: Critical for identifying shoes with an offset lower than 8mm.\n- **Foam Cushioning**: Necessary for finding shoes with PWRRUN PB foam cushioning.\n- **Other Features**: Essential for identifying shoes that have a carbon plate.\n\n### Summary:\nThe dataset provides a variety of features related to shoes, but it suffers from significant missing values in key areas like 'Stack Height' and 'Other Features'. The most important features for the specified use cases are 'Offset', 'Foam Cushioning', and 'Other Features'. The brand distribution indicates a concentration around Nike, which may influence market analysis. Overall, while the dataset has potential, the missing values and categorical nature of the data will require careful handling in any analysis or modeling."
     },
     "metadata": {},
     "output_type": "display_data"
    },
    {
     "data": {
      "text/plain": [
       "<IPython.core.display.Markdown object>"
      ],
      "text/markdown": "### Preliminary Analysis of Shoe Data\n\n#### Overall Details:\n1. **Data Structure**: The dataset consists of 37 entries (shoes) and 7 features (columns). All features are of type `object`, indicating that they are categorical or string data.\n2. **Missing Values**: There are several features with missing values:\n   - **Other Features**: 21 non-null (16 missing)\n   - **Stack Height**: 10 non-null (27 missing)\n   - **Cushioning**: 31 non-null (6 missing)\n   - **Foam Cushioning**: 28 non-null (9 missing)\n   This indicates that a significant portion of the data is missing for certain features, particularly for Stack Height.\n\n3. **Unique Values**: The dataset has a good variety of unique values across features:\n   - **Name**: 37 unique shoe names, indicating a diverse selection.\n   - **Brand**: 7 unique brands, with Nike being the most frequent (7 occurrences).\n   - **Other Features**: 12 unique features, with Carbon Plate being the most common (9 occurrences).\n   - **Offset**: 9 unique values, with 8mm being the most frequent (12 occurrences).\n   - **Stack Height**: 8 unique values, but with many missing entries.\n   - **Cushioning**: 14 unique levels of cushioning, with Max being the most common (6 occurrences).\n   - **Foam Cushioning**: 16 unique types of foam, with Helion being the most frequent (3 occurrences).\n\n#### Important Features:\n1. **Offset**: This feature is crucial for identifying shoes with specific heel-to-toe drop characteristics. It can help answer the use case regarding shoes with an offset lower than 8mm.\n2. **Cushioning**: This feature provides insights into the comfort level of the shoes and can be used to filter shoes with specific foam types, such as PWRRUN PB.\n3. **Other Features**: This feature can help identify shoes with specific technologies, such as those containing a carbon plate.\n4. **Brand**: Knowing the brand can be important for brand loyalty and marketing strategies.\n5. **Stack Height**: Although it has many missing values, it can provide insights into the overall height of the shoe, which may affect performance and comfort.\n\n#### Use Case Insights:\n- To find shoes with an offset lower than 8mm, we can filter the Offset feature.\n- To identify shoes with PWRRUN PB foam cushioning, we can filter the Foam Cushioning feature.\n- To find shoes with a carbon plate in the Other Features, we can filter that feature accordingly.\n\n### Conclusion:\nThe dataset provides a rich set of features to analyze shoe characteristics, but the presence of missing values in key features like Stack Height and Foam Cushioning may limit some analyses. The most important features for the specified use cases are Offset, Cushioning, and Other Features."
     },
     "metadata": {},
     "output_type": "display_data"
    }
   ],
   "execution_count": 7
  },
  {
   "metadata": {
    "ExecuteTime": {
     "end_time": "2025-01-09T01:55:41.222470Z",
     "start_time": "2025-01-09T01:55:41.219542Z"
    }
   },
   "cell_type": "code",
   "source": "gdm = GraphDataModeler(llm=llm_dm, discovery=disc)",
   "id": "d2d1d515bbe96171",
   "outputs": [],
   "execution_count": 8
  },
  {
   "metadata": {
    "ExecuteTime": {
     "end_time": "2025-01-09T01:56:14.802112Z",
     "start_time": "2025-01-09T01:55:43.498861Z"
    }
   },
   "cell_type": "code",
   "source": "gdm.create_initial_model()",
   "id": "4cd786cf49beed63",
   "outputs": [
    {
     "name": "stdout",
     "output_type": "stream",
     "text": [
      "\u001B[1m> Generating Nodes...\u001B[00m\n",
      "\u001B[3mAttempts | 2  \u001B[0m\n",
      "Received \u001B[92mValid\u001B[00m Nodes\n",
      "Nodes\n",
      "* \u001B[96m(:Shoe)\u001B[00m         * \u001B[96m(:Feature)\u001B[00m\n",
      "* \u001B[96m(:Offset)\u001B[00m       * \u001B[96m(:StackHeight)\u001B[00m\n",
      "* \u001B[96m(:Cushioning)\u001B[00m   * \u001B[96m(:FoamCushioning)\u001B[00m \n",
      "\n",
      "\u001B[1m> Generating Data Model...\u001B[00m\n",
      "\u001B[3mAttempts | 1  \u001B[0m\n",
      "Received \u001B[92mValid\u001B[00m Data Model\n",
      "Nodes\n",
      "* \u001B[96m(:Shoe)\u001B[00m         * \u001B[96m(:Feature)\u001B[00m\n",
      "* \u001B[96m(:Offset)\u001B[00m       * \u001B[96m(:StackHeight)\u001B[00m\n",
      "* \u001B[96m(:Cushioning)\u001B[00m   * \u001B[96m(:FoamCushioning)\u001B[00m \n",
      "\n",
      "Relationships\n",
      "* \u001B[96m(:Shoe)-[:HAS_FEATURE]->(:Feature)\u001B[00m                  \n",
      "* \u001B[96m(:Shoe)-[:HAS_OFFSET]->(:Offset)\u001B[00m                    \n",
      "* \u001B[96m(:Shoe)-[:HAS_STACK_HEIGHT]->(:StackHeight)\u001B[00m         \n",
      "* \u001B[96m(:Shoe)-[:HAS_CUSHIONING]->(:Cushioning)\u001B[00m            \n",
      "* \u001B[96m(:Shoe)-[:HAS_FOAM_CUSHIONING]->(:FoamCushioning)\u001B[00m   \n"
     ]
    },
    {
     "data": {
      "text/plain": [
       "DataModel(nodes=[Node(label='Shoe', properties=[Property(name='name', type='str', column_mapping='Name', alias=None, is_unique=True, part_of_key=False), Property(name='brand', type='str', column_mapping='Brand', alias=None, is_unique=False, part_of_key=False)], source_name='file'), Node(label='Feature', properties=[Property(name='feature', type='str', column_mapping='Other Features', alias=None, is_unique=True, part_of_key=False)], source_name='file'), Node(label='Offset', properties=[Property(name='offsetValue', type='str', column_mapping='Offset', alias=None, is_unique=True, part_of_key=False)], source_name='file'), Node(label='StackHeight', properties=[Property(name='stackHeightValue', type='str', column_mapping='Stack Height', alias=None, is_unique=True, part_of_key=False)], source_name='file'), Node(label='Cushioning', properties=[Property(name='cushioningLevel', type='str', column_mapping='Cushioning', alias=None, is_unique=True, part_of_key=False)], source_name='file'), Node(label='FoamCushioning', properties=[Property(name='foamType', type='str', column_mapping='Foam Cushioning', alias=None, is_unique=True, part_of_key=False)], source_name='file')], relationships=[Relationship(type='HAS_FEATURE', properties=[], source='Shoe', target='Feature', source_name='file'), Relationship(type='HAS_OFFSET', properties=[], source='Shoe', target='Offset', source_name='file'), Relationship(type='HAS_STACK_HEIGHT', properties=[], source='Shoe', target='StackHeight', source_name='file'), Relationship(type='HAS_CUSHIONING', properties=[], source='Shoe', target='Cushioning', source_name='file'), Relationship(type='HAS_FOAM_CUSHIONING', properties=[], source='Shoe', target='FoamCushioning', source_name='file')], metadata=None)"
      ]
     },
     "execution_count": 9,
     "metadata": {},
     "output_type": "execute_result"
    }
   ],
   "execution_count": 9
  },
  {
   "metadata": {
    "ExecuteTime": {
     "end_time": "2025-01-09T01:56:19.996131Z",
     "start_time": "2025-01-09T01:56:19.359881Z"
    }
   },
   "cell_type": "code",
   "source": "gdm.current_model.visualize()",
   "id": "236352fede62217b",
   "outputs": [
    {
     "data": {
      "image/svg+xml": "<?xml version=\"1.0\" encoding=\"UTF-8\" standalone=\"no\"?>\n<!DOCTYPE svg PUBLIC \"-//W3C//DTD SVG 1.1//EN\"\n \"http://www.w3.org/Graphics/SVG/1.1/DTD/svg11.dtd\">\n<!-- Generated by graphviz version 12.1.1 (20240910.0053)\n -->\n<!-- Pages: 1 -->\n<svg width=\"1979pt\" height=\"264pt\"\n viewBox=\"0.00 0.00 1979.22 263.80\" xmlns=\"http://www.w3.org/2000/svg\" xmlns:xlink=\"http://www.w3.org/1999/xlink\">\n<g id=\"graph0\" class=\"graph\" transform=\"scale(1 1) rotate(0) translate(36 227.8)\">\n<polygon fill=\"azure\" stroke=\"none\" points=\"-36,36 -36,-227.8 1943.22,-227.8 1943.22,36 -36,36\"/>\n<!-- Shoe -->\n<g id=\"node1\" class=\"node\">\n<title>Shoe</title>\n<ellipse fill=\"#c1cdcd\" stroke=\"black\" cx=\"887.88\" cy=\"-151.14\" rx=\"131.17\" ry=\"40.66\"/>\n<text text-anchor=\"middle\" x=\"887.88\" y=\"-162.59\" font-family=\"Times,serif\" font-size=\"14.00\">(:Shoe)</text>\n<text text-anchor=\"start\" x=\"803.13\" y=\"-146.09\" font-family=\"Times,serif\" font-size=\"14.00\">* name (Name): str | UNIQUE</text>\n<text text-anchor=\"start\" x=\"803.13\" y=\"-129.59\" font-family=\"Times,serif\" font-size=\"14.00\">* brand (Brand): str</text>\n</g>\n<!-- Feature -->\n<g id=\"node2\" class=\"node\">\n<title>Feature</title>\n<ellipse fill=\"#c1cdcd\" stroke=\"black\" cx=\"169.88\" cy=\"-28.99\" rx=\"169.88\" ry=\"28.99\"/>\n<text text-anchor=\"middle\" x=\"169.88\" y=\"-32.19\" font-family=\"Times,serif\" font-size=\"14.00\">(:Feature)</text>\n<text text-anchor=\"start\" x=\"57.76\" y=\"-15.69\" font-family=\"Times,serif\" font-size=\"14.00\">* feature (Other Features): str | UNIQUE</text>\n</g>\n<!-- Shoe&#45;&gt;Feature -->\n<g id=\"edge1\" class=\"edge\">\n<title>Shoe&#45;&gt;Feature</title>\n<path fill=\"none\" stroke=\"black\" stroke-width=\"2\" d=\"M773.08,-131.11C705.54,-119.9 618.48,-105.42 541.13,-92.48 461.47,-79.15 372.2,-64.13 301.17,-52.16\"/>\n<polygon fill=\"black\" stroke=\"black\" stroke-width=\"2\" points=\"302.01,-48.75 291.57,-50.54 300.84,-55.65 302.01,-48.75\"/>\n<text text-anchor=\"middle\" x=\"601.51\" y=\"-79.18\" font-family=\"Times,serif\" font-size=\"14.00\"> &#160;[:HAS_FEATURE] &#160;</text>\n</g>\n<!-- Offset -->\n<g id=\"node3\" class=\"node\">\n<title>Offset</title>\n<ellipse fill=\"#c1cdcd\" stroke=\"black\" cx=\"511.88\" cy=\"-28.99\" rx=\"153.97\" ry=\"28.99\"/>\n<text text-anchor=\"middle\" x=\"511.88\" y=\"-32.19\" font-family=\"Times,serif\" font-size=\"14.00\">(:Offset)</text>\n<text text-anchor=\"start\" x=\"411.01\" y=\"-15.69\" font-family=\"Times,serif\" font-size=\"14.00\">* offsetValue (Offset): str | UNIQUE</text>\n</g>\n<!-- Shoe&#45;&gt;Offset -->\n<g id=\"edge2\" class=\"edge\">\n<title>Shoe&#45;&gt;Offset</title>\n<path fill=\"none\" stroke=\"black\" stroke-width=\"2\" d=\"M797.82,-121.36C738.19,-102.31 660.32,-77.42 600.9,-58.44\"/>\n<polygon fill=\"black\" stroke=\"black\" stroke-width=\"2\" points=\"601.99,-55.11 591.4,-55.4 599.86,-61.78 601.99,-55.11\"/>\n<text text-anchor=\"middle\" x=\"755.01\" y=\"-79.18\" font-family=\"Times,serif\" font-size=\"14.00\"> &#160;[:HAS_OFFSET] &#160;</text>\n</g>\n<!-- StackHeight -->\n<g id=\"node4\" class=\"node\">\n<title>StackHeight</title>\n<ellipse fill=\"#c1cdcd\" stroke=\"black\" cx=\"887.88\" cy=\"-28.99\" rx=\"203.82\" ry=\"28.99\"/>\n<text text-anchor=\"middle\" x=\"887.88\" y=\"-32.19\" font-family=\"Times,serif\" font-size=\"14.00\">(:StackHeight)</text>\n<text text-anchor=\"start\" x=\"751.76\" y=\"-15.69\" font-family=\"Times,serif\" font-size=\"14.00\">* stackHeightValue (Stack Height): str | UNIQUE</text>\n</g>\n<!-- Shoe&#45;&gt;StackHeight -->\n<g id=\"edge3\" class=\"edge\">\n<title>Shoe&#45;&gt;StackHeight</title>\n<path fill=\"none\" stroke=\"black\" stroke-width=\"2\" d=\"M887.88,-110.13C887.88,-97.7 887.88,-83.97 887.88,-71.44\"/>\n<polygon fill=\"black\" stroke=\"black\" stroke-width=\"2\" points=\"891.38,-71.46 887.88,-61.46 884.38,-71.46 891.38,-71.46\"/>\n<text text-anchor=\"middle\" x=\"969.26\" y=\"-79.18\" font-family=\"Times,serif\" font-size=\"14.00\"> &#160;[:HAS_STACK_HEIGHT] &#160;</text>\n</g>\n<!-- Cushioning -->\n<g id=\"node5\" class=\"node\">\n<title>Cushioning</title>\n<ellipse fill=\"#c1cdcd\" stroke=\"black\" cx=\"1303.88\" cy=\"-28.99\" rx=\"194.28\" ry=\"28.99\"/>\n<text text-anchor=\"middle\" x=\"1303.88\" y=\"-32.19\" font-family=\"Times,serif\" font-size=\"14.00\">(:Cushioning)</text>\n<text text-anchor=\"start\" x=\"1174.51\" y=\"-15.69\" font-family=\"Times,serif\" font-size=\"14.00\">* cushioningLevel (Cushioning): str | UNIQUE</text>\n</g>\n<!-- Shoe&#45;&gt;Cushioning -->\n<g id=\"edge4\" class=\"edge\">\n<title>Shoe&#45;&gt;Cushioning</title>\n<path fill=\"none\" stroke=\"black\" stroke-width=\"2\" d=\"M982.8,-122.73C1048.94,-103.62 1137.01,-78.19 1204.18,-58.79\"/>\n<polygon fill=\"black\" stroke=\"black\" stroke-width=\"2\" points=\"1204.92,-62.22 1213.56,-56.08 1202.98,-55.49 1204.92,-62.22\"/>\n<text text-anchor=\"middle\" x=\"1205.89\" y=\"-79.18\" font-family=\"Times,serif\" font-size=\"14.00\"> &#160;[:HAS_CUSHIONING] &#160;</text>\n</g>\n<!-- FoamCushioning -->\n<g id=\"node6\" class=\"node\">\n<title>FoamCushioning</title>\n<ellipse fill=\"#c1cdcd\" stroke=\"black\" cx=\"1711.88\" cy=\"-28.99\" rx=\"195.34\" ry=\"28.99\"/>\n<text text-anchor=\"middle\" x=\"1711.88\" y=\"-32.19\" font-family=\"Times,serif\" font-size=\"14.00\">(:FoamCushioning)</text>\n<text text-anchor=\"start\" x=\"1581.76\" y=\"-15.69\" font-family=\"Times,serif\" font-size=\"14.00\">* foamType (Foam Cushioning): str | UNIQUE</text>\n</g>\n<!-- Shoe&#45;&gt;FoamCushioning -->\n<g id=\"edge5\" class=\"edge\">\n<title>Shoe&#45;&gt;FoamCushioning</title>\n<path fill=\"none\" stroke=\"black\" stroke-width=\"2\" d=\"M1005.94,-132.93C1152.39,-111.57 1402.22,-75.14 1562.04,-51.84\"/>\n<polygon fill=\"black\" stroke=\"black\" stroke-width=\"2\" points=\"1562.43,-55.32 1571.82,-50.41 1561.42,-48.39 1562.43,-55.32\"/>\n<text text-anchor=\"middle\" x=\"1469.69\" y=\"-79.18\" font-family=\"Times,serif\" font-size=\"14.00\"> &#160;[:HAS_FOAM_CUSHIONING] &#160;</text>\n</g>\n</g>\n</svg>\n",
      "text/plain": [
       "<graphviz.graphs.Digraph at 0x137e73680>"
      ]
     },
     "execution_count": 10,
     "metadata": {},
     "output_type": "execute_result"
    }
   ],
   "execution_count": 10
  },
  {
   "metadata": {},
   "cell_type": "markdown",
   "source": "### Now that we have generated a model, we can make changes to the model ###",
   "id": "4cd0bc7d6f57c241"
  },
  {
   "metadata": {
    "ExecuteTime": {
     "end_time": "2025-01-09T01:57:36.121616Z",
     "start_time": "2025-01-09T01:57:25.696793Z"
    }
   },
   "cell_type": "code",
   "source": [
    "gdm.iterate_model(corrections=\"remove Feature node and add Other Features as a property to Shoe node.\")\n",
    "gdm.current_model.visualize()"
   ],
   "id": "99858d1b3b5fdfe5",
   "outputs": [
    {
     "name": "stdout",
     "output_type": "stream",
     "text": [
      "\u001B[1m> Generating Data Model...\u001B[00m\n",
      "\u001B[3mAttempts | 1  \u001B[0m\n",
      "Received \u001B[92mValid\u001B[00m Data Model\n",
      "Nodes\n",
      "* \u001B[96m(:Shoe)\u001B[00m             * \u001B[96m(:Offset)\u001B[00m\n",
      "* \u001B[96m(:StackHeight)\u001B[00m      * \u001B[96m(:Cushioning)\u001B[00m\n",
      "* \u001B[96m(:FoamCushioning)\u001B[00m    \n",
      "\n",
      "Relationships\n",
      "* \u001B[96m(:Shoe)-[:HAS_OFFSET]->(:Offset)\u001B[00m                    \n",
      "* \u001B[96m(:Shoe)-[:HAS_STACK_HEIGHT]->(:StackHeight)\u001B[00m         \n",
      "* \u001B[96m(:Shoe)-[:HAS_CUSHIONING]->(:Cushioning)\u001B[00m            \n",
      "* \u001B[96m(:Shoe)-[:HAS_FOAM_CUSHIONING]->(:FoamCushioning)\u001B[00m   \n"
     ]
    },
    {
     "data": {
      "image/svg+xml": "<?xml version=\"1.0\" encoding=\"UTF-8\" standalone=\"no\"?>\n<!DOCTYPE svg PUBLIC \"-//W3C//DTD SVG 1.1//EN\"\n \"http://www.w3.org/Graphics/SVG/1.1/DTD/svg11.dtd\">\n<!-- Generated by graphviz version 12.1.1 (20240910.0053)\n -->\n<!-- Pages: 1 -->\n<svg width=\"1621pt\" height=\"287pt\"\n viewBox=\"0.00 0.00 1621.31 287.13\" xmlns=\"http://www.w3.org/2000/svg\" xmlns:xlink=\"http://www.w3.org/1999/xlink\">\n<g id=\"graph0\" class=\"graph\" transform=\"scale(1 1) rotate(0) translate(36 251.13)\">\n<polygon fill=\"azure\" stroke=\"none\" points=\"-36,36 -36,-251.13 1585.31,-251.13 1585.31,36 -36,36\"/>\n<!-- Shoe -->\n<g id=\"node1\" class=\"node\">\n<title>Shoe</title>\n<ellipse fill=\"#c1cdcd\" stroke=\"black\" cx=\"737.97\" cy=\"-162.81\" rx=\"151.32\" ry=\"52.33\"/>\n<text text-anchor=\"middle\" x=\"737.97\" y=\"-182.51\" font-family=\"Times,serif\" font-size=\"14.00\">(:Shoe)</text>\n<text text-anchor=\"start\" x=\"638.97\" y=\"-166.01\" font-family=\"Times,serif\" font-size=\"14.00\">* name (Name): str | UNIQUE</text>\n<text text-anchor=\"start\" x=\"638.97\" y=\"-149.51\" font-family=\"Times,serif\" font-size=\"14.00\">* brand (Brand): str</text>\n<text text-anchor=\"start\" x=\"638.97\" y=\"-133.01\" font-family=\"Times,serif\" font-size=\"14.00\">* otherFeatures (Other Features): str</text>\n</g>\n<!-- Offset -->\n<g id=\"node2\" class=\"node\">\n<title>Offset</title>\n<ellipse fill=\"#c1cdcd\" stroke=\"black\" cx=\"153.97\" cy=\"-28.99\" rx=\"153.97\" ry=\"28.99\"/>\n<text text-anchor=\"middle\" x=\"153.97\" y=\"-32.19\" font-family=\"Times,serif\" font-size=\"14.00\">(:Offset)</text>\n<text text-anchor=\"start\" x=\"53.1\" y=\"-15.69\" font-family=\"Times,serif\" font-size=\"14.00\">* offsetValue (Offset): str | UNIQUE</text>\n</g>\n<!-- Shoe&#45;&gt;Offset -->\n<g id=\"edge1\" class=\"edge\">\n<title>Shoe&#45;&gt;Offset</title>\n<path fill=\"none\" stroke=\"black\" stroke-width=\"2\" d=\"M611.97,-133.37C508.11,-109.93 362.29,-77.01 263.29,-54.67\"/>\n<polygon fill=\"black\" stroke=\"black\" stroke-width=\"2\" points=\"264.33,-51.31 253.8,-52.52 262.79,-58.14 264.33,-51.31\"/>\n<text text-anchor=\"middle\" x=\"483.59\" y=\"-79.18\" font-family=\"Times,serif\" font-size=\"14.00\"> &#160;[:HAS_OFFSET] &#160;</text>\n</g>\n<!-- StackHeight -->\n<g id=\"node3\" class=\"node\">\n<title>StackHeight</title>\n<ellipse fill=\"#c1cdcd\" stroke=\"black\" cx=\"529.97\" cy=\"-28.99\" rx=\"203.82\" ry=\"28.99\"/>\n<text text-anchor=\"middle\" x=\"529.97\" y=\"-32.19\" font-family=\"Times,serif\" font-size=\"14.00\">(:StackHeight)</text>\n<text text-anchor=\"start\" x=\"393.85\" y=\"-15.69\" font-family=\"Times,serif\" font-size=\"14.00\">* stackHeightValue (Stack Height): str | UNIQUE</text>\n</g>\n<!-- Shoe&#45;&gt;StackHeight -->\n<g id=\"edge2\" class=\"edge\">\n<title>Shoe&#45;&gt;StackHeight</title>\n<path fill=\"none\" stroke=\"black\" stroke-width=\"2\" d=\"M666.39,-116.44C639.57,-99.45 609.56,-80.43 584.52,-64.56\"/>\n<polygon fill=\"black\" stroke=\"black\" stroke-width=\"2\" points=\"586.64,-61.76 576.32,-59.36 582.89,-67.67 586.64,-61.76\"/>\n<text text-anchor=\"middle\" x=\"709.11\" y=\"-79.18\" font-family=\"Times,serif\" font-size=\"14.00\"> &#160;[:HAS_STACK_HEIGHT] &#160;</text>\n</g>\n<!-- Cushioning -->\n<g id=\"node4\" class=\"node\">\n<title>Cushioning</title>\n<ellipse fill=\"#c1cdcd\" stroke=\"black\" cx=\"945.97\" cy=\"-28.99\" rx=\"194.28\" ry=\"28.99\"/>\n<text text-anchor=\"middle\" x=\"945.97\" y=\"-32.19\" font-family=\"Times,serif\" font-size=\"14.00\">(:Cushioning)</text>\n<text text-anchor=\"start\" x=\"816.6\" y=\"-15.69\" font-family=\"Times,serif\" font-size=\"14.00\">* cushioningLevel (Cushioning): str | UNIQUE</text>\n</g>\n<!-- Shoe&#45;&gt;Cushioning -->\n<g id=\"edge3\" class=\"edge\">\n<title>Shoe&#45;&gt;Cushioning</title>\n<path fill=\"none\" stroke=\"black\" stroke-width=\"2\" d=\"M809.55,-116.44C836.48,-99.38 866.62,-80.28 891.71,-64.38\"/>\n<polygon fill=\"black\" stroke=\"black\" stroke-width=\"2\" points=\"893.36,-67.48 899.93,-59.17 889.61,-61.57 893.36,-67.48\"/>\n<text text-anchor=\"middle\" x=\"945.51\" y=\"-79.18\" font-family=\"Times,serif\" font-size=\"14.00\"> &#160;[:HAS_CUSHIONING] &#160;</text>\n</g>\n<!-- FoamCushioning -->\n<g id=\"node5\" class=\"node\">\n<title>FoamCushioning</title>\n<ellipse fill=\"#c1cdcd\" stroke=\"black\" cx=\"1353.97\" cy=\"-28.99\" rx=\"195.34\" ry=\"28.99\"/>\n<text text-anchor=\"middle\" x=\"1353.97\" y=\"-32.19\" font-family=\"Times,serif\" font-size=\"14.00\">(:FoamCushioning)</text>\n<text text-anchor=\"start\" x=\"1223.85\" y=\"-15.69\" font-family=\"Times,serif\" font-size=\"14.00\">* foamType (Foam Cushioning): str | UNIQUE</text>\n</g>\n<!-- Shoe&#45;&gt;FoamCushioning -->\n<g id=\"edge4\" class=\"edge\">\n<title>Shoe&#45;&gt;FoamCushioning</title>\n<path fill=\"none\" stroke=\"black\" stroke-width=\"2\" d=\"M865.98,-134.42C973.45,-111.42 1125.94,-78.79 1231.75,-56.15\"/>\n<polygon fill=\"black\" stroke=\"black\" stroke-width=\"2\" points=\"1232.41,-59.58 1241.45,-54.07 1230.94,-52.74 1232.41,-59.58\"/>\n<text text-anchor=\"middle\" x=\"1233.14\" y=\"-79.18\" font-family=\"Times,serif\" font-size=\"14.00\"> &#160;[:HAS_FOAM_CUSHIONING] &#160;</text>\n</g>\n</g>\n</svg>\n",
      "text/plain": [
       "<graphviz.graphs.Digraph at 0x137e73800>"
      ]
     },
     "execution_count": 11,
     "metadata": {},
     "output_type": "execute_result"
    }
   ],
   "execution_count": 11
  },
  {
   "metadata": {
    "ExecuteTime": {
     "end_time": "2025-01-09T01:58:11.588700Z",
     "start_time": "2025-01-09T01:58:05.469666Z"
    }
   },
   "cell_type": "code",
   "source": [
    "gdm.iterate_model(corrections=\"Remove stack height node and add stack height property as property to Shoe node.\")\n",
    "gdm.current_model.visualize()"
   ],
   "id": "345aeba4300ae38e",
   "outputs": [
    {
     "name": "stdout",
     "output_type": "stream",
     "text": [
      "\u001B[1m> Generating Data Model...\u001B[00m\n",
      "\u001B[3mAttempts | 1  \u001B[0m\n",
      "Received \u001B[92mValid\u001B[00m Data Model\n",
      "Nodes\n",
      "* \u001B[96m(:Shoe)\u001B[00m         * \u001B[96m(:Offset)\u001B[00m\n",
      "* \u001B[96m(:Cushioning)\u001B[00m   * \u001B[96m(:FoamCushioning)\u001B[00m \n",
      "\n",
      "Relationships\n",
      "* \u001B[96m(:Shoe)-[:HAS_OFFSET]->(:Offset)\u001B[00m                    \n",
      "* \u001B[96m(:Shoe)-[:HAS_CUSHIONING]->(:Cushioning)\u001B[00m            \n",
      "* \u001B[96m(:Shoe)-[:HAS_FOAM_CUSHIONING]->(:FoamCushioning)\u001B[00m   \n"
     ]
    },
    {
     "data": {
      "image/svg+xml": "<?xml version=\"1.0\" encoding=\"UTF-8\" standalone=\"no\"?>\n<!DOCTYPE svg PUBLIC \"-//W3C//DTD SVG 1.1//EN\"\n \"http://www.w3.org/Graphics/SVG/1.1/DTD/svg11.dtd\">\n<!-- Generated by graphviz version 12.1.1 (20240910.0053)\n -->\n<!-- Pages: 1 -->\n<svg width=\"1195pt\" height=\"310pt\"\n viewBox=\"0.00 0.00 1195.31 310.47\" xmlns=\"http://www.w3.org/2000/svg\" xmlns:xlink=\"http://www.w3.org/1999/xlink\">\n<g id=\"graph0\" class=\"graph\" transform=\"scale(1 1) rotate(0) translate(36 274.47)\">\n<polygon fill=\"azure\" stroke=\"none\" points=\"-36,36 -36,-274.47 1159.31,-274.47 1159.31,36 -36,36\"/>\n<!-- Shoe -->\n<g id=\"node1\" class=\"node\">\n<title>Shoe</title>\n<ellipse fill=\"#c1cdcd\" stroke=\"black\" cx=\"519.97\" cy=\"-174.48\" rx=\"151.32\" ry=\"63.99\"/>\n<text text-anchor=\"middle\" x=\"519.97\" y=\"-202.43\" font-family=\"Times,serif\" font-size=\"14.00\">(:Shoe)</text>\n<text text-anchor=\"start\" x=\"420.97\" y=\"-185.93\" font-family=\"Times,serif\" font-size=\"14.00\">* name (Name): str | UNIQUE</text>\n<text text-anchor=\"start\" x=\"420.97\" y=\"-169.43\" font-family=\"Times,serif\" font-size=\"14.00\">* brand (Brand): str</text>\n<text text-anchor=\"start\" x=\"420.97\" y=\"-152.93\" font-family=\"Times,serif\" font-size=\"14.00\">* otherFeatures (Other Features): str</text>\n<text text-anchor=\"start\" x=\"420.97\" y=\"-136.43\" font-family=\"Times,serif\" font-size=\"14.00\">* stackHeight (Stack Height): str</text>\n</g>\n<!-- Offset -->\n<g id=\"node2\" class=\"node\">\n<title>Offset</title>\n<ellipse fill=\"#c1cdcd\" stroke=\"black\" cx=\"153.97\" cy=\"-28.99\" rx=\"153.97\" ry=\"28.99\"/>\n<text text-anchor=\"middle\" x=\"153.97\" y=\"-32.19\" font-family=\"Times,serif\" font-size=\"14.00\">(:Offset)</text>\n<text text-anchor=\"start\" x=\"53.1\" y=\"-15.69\" font-family=\"Times,serif\" font-size=\"14.00\">* offsetValue (Offset): str | UNIQUE</text>\n</g>\n<!-- Shoe&#45;&gt;Offset -->\n<g id=\"edge1\" class=\"edge\">\n<title>Shoe&#45;&gt;Offset</title>\n<path fill=\"none\" stroke=\"black\" stroke-width=\"2\" d=\"M409.66,-130.23C352.18,-107.7 283.27,-80.68 231.48,-60.38\"/>\n<polygon fill=\"black\" stroke=\"black\" stroke-width=\"2\" points=\"232.77,-57.13 222.19,-56.73 230.22,-63.64 232.77,-57.13\"/>\n<text text-anchor=\"middle\" x=\"359.32\" y=\"-79.18\" font-family=\"Times,serif\" font-size=\"14.00\"> &#160;[:HAS_OFFSET] &#160;</text>\n</g>\n<!-- Cushioning -->\n<g id=\"node3\" class=\"node\">\n<title>Cushioning</title>\n<ellipse fill=\"#c1cdcd\" stroke=\"black\" cx=\"519.97\" cy=\"-28.99\" rx=\"194.28\" ry=\"28.99\"/>\n<text text-anchor=\"middle\" x=\"519.97\" y=\"-32.19\" font-family=\"Times,serif\" font-size=\"14.00\">(:Cushioning)</text>\n<text text-anchor=\"start\" x=\"390.6\" y=\"-15.69\" font-family=\"Times,serif\" font-size=\"14.00\">* cushioningLevel (Cushioning): str | UNIQUE</text>\n</g>\n<!-- Shoe&#45;&gt;Cushioning -->\n<g id=\"edge2\" class=\"edge\">\n<title>Shoe&#45;&gt;Cushioning</title>\n<path fill=\"none\" stroke=\"black\" stroke-width=\"2\" d=\"M519.97,-110.12C519.97,-96.92 519.97,-83.34 519.97,-71.19\"/>\n<polygon fill=\"black\" stroke=\"black\" stroke-width=\"2\" points=\"523.47,-71.21 519.97,-61.21 516.47,-71.21 523.47,-71.21\"/>\n<text text-anchor=\"middle\" x=\"592.72\" y=\"-79.18\" font-family=\"Times,serif\" font-size=\"14.00\"> &#160;[:HAS_CUSHIONING] &#160;</text>\n</g>\n<!-- FoamCushioning -->\n<g id=\"node4\" class=\"node\">\n<title>FoamCushioning</title>\n<ellipse fill=\"#c1cdcd\" stroke=\"black\" cx=\"927.97\" cy=\"-28.99\" rx=\"195.34\" ry=\"28.99\"/>\n<text text-anchor=\"middle\" x=\"927.97\" y=\"-32.19\" font-family=\"Times,serif\" font-size=\"14.00\">(:FoamCushioning)</text>\n<text text-anchor=\"start\" x=\"797.85\" y=\"-15.69\" font-family=\"Times,serif\" font-size=\"14.00\">* foamType (Foam Cushioning): str | UNIQUE</text>\n</g>\n<!-- Shoe&#45;&gt;FoamCushioning -->\n<g id=\"edge3\" class=\"edge\">\n<title>Shoe&#45;&gt;FoamCushioning</title>\n<path fill=\"none\" stroke=\"black\" stroke-width=\"2\" d=\"M635.53,-132.84C700.99,-109.81 781.53,-81.49 841.5,-60.4\"/>\n<polygon fill=\"black\" stroke=\"black\" stroke-width=\"2\" points=\"842.47,-63.77 850.74,-57.15 840.14,-57.17 842.47,-63.77\"/>\n<text text-anchor=\"middle\" x=\"892\" y=\"-79.18\" font-family=\"Times,serif\" font-size=\"14.00\"> &#160;[:HAS_FOAM_CUSHIONING] &#160;</text>\n</g>\n</g>\n</svg>\n",
      "text/plain": [
       "<graphviz.graphs.Digraph at 0x141243590>"
      ]
     },
     "execution_count": 12,
     "metadata": {},
     "output_type": "execute_result"
    }
   ],
   "execution_count": 12
  },
  {
   "metadata": {
    "ExecuteTime": {
     "end_time": "2025-01-09T01:59:06.423173Z",
     "start_time": "2025-01-09T01:59:01.018635Z"
    }
   },
   "cell_type": "code",
   "source": [
    "\n",
    "gdm.iterate_model(corrections=\"Remove foam cushioning node and add foam cushioning property as property to Shoe node.\")\n",
    "gdm.current_model.visualize()"
   ],
   "id": "7723a9e12e257b84",
   "outputs": [
    {
     "name": "stdout",
     "output_type": "stream",
     "text": [
      "\u001B[1m> Generating Data Model...\u001B[00m\n",
      "\u001B[3mAttempts | 1  \u001B[0m\n",
      "Received \u001B[92mValid\u001B[00m Data Model\n",
      "Nodes\n",
      "* \u001B[96m(:Shoe)\u001B[00m         * \u001B[96m(:Offset)\u001B[00m\n",
      "* \u001B[96m(:Cushioning)\u001B[00m    \n",
      "\n",
      "Relationships\n",
      "* \u001B[96m(:Shoe)-[:HAS_OFFSET]->(:Offset)\u001B[00m           \n",
      "* \u001B[96m(:Shoe)-[:HAS_CUSHIONING]->(:Cushioning)\u001B[00m   \n"
     ]
    },
    {
     "data": {
      "image/svg+xml": "<?xml version=\"1.0\" encoding=\"UTF-8\" standalone=\"no\"?>\n<!DOCTYPE svg PUBLIC \"-//W3C//DTD SVG 1.1//EN\"\n \"http://www.w3.org/Graphics/SVG/1.1/DTD/svg11.dtd\">\n<!-- Generated by graphviz version 12.1.1 (20240910.0053)\n -->\n<!-- Pages: 1 -->\n<svg width=\"786pt\" height=\"334pt\"\n viewBox=\"0.00 0.00 786.25 333.80\" xmlns=\"http://www.w3.org/2000/svg\" xmlns:xlink=\"http://www.w3.org/1999/xlink\">\n<g id=\"graph0\" class=\"graph\" transform=\"scale(1 1) rotate(0) translate(36 297.8)\">\n<polygon fill=\"azure\" stroke=\"none\" points=\"-36,36 -36,-297.8 750.25,-297.8 750.25,36 -36,36\"/>\n<!-- Shoe -->\n<g id=\"node1\" class=\"node\">\n<title>Shoe</title>\n<ellipse fill=\"#c1cdcd\" stroke=\"black\" cx=\"336.97\" cy=\"-186.14\" rx=\"175.72\" ry=\"75.66\"/>\n<text text-anchor=\"middle\" x=\"336.97\" y=\"-222.34\" font-family=\"Times,serif\" font-size=\"14.00\">(:Shoe)</text>\n<text text-anchor=\"start\" x=\"220.72\" y=\"-205.84\" font-family=\"Times,serif\" font-size=\"14.00\">* name (Name): str | UNIQUE</text>\n<text text-anchor=\"start\" x=\"220.72\" y=\"-189.34\" font-family=\"Times,serif\" font-size=\"14.00\">* brand (Brand): str</text>\n<text text-anchor=\"start\" x=\"220.72\" y=\"-172.84\" font-family=\"Times,serif\" font-size=\"14.00\">* otherFeatures (Other Features): str</text>\n<text text-anchor=\"start\" x=\"220.72\" y=\"-156.34\" font-family=\"Times,serif\" font-size=\"14.00\">* stackHeight (Stack Height): str</text>\n<text text-anchor=\"start\" x=\"220.72\" y=\"-139.84\" font-family=\"Times,serif\" font-size=\"14.00\">* foamCushioning (Foam Cushioning): str</text>\n</g>\n<!-- Offset -->\n<g id=\"node2\" class=\"node\">\n<title>Offset</title>\n<ellipse fill=\"#c1cdcd\" stroke=\"black\" cx=\"153.97\" cy=\"-28.99\" rx=\"153.97\" ry=\"28.99\"/>\n<text text-anchor=\"middle\" x=\"153.97\" y=\"-32.19\" font-family=\"Times,serif\" font-size=\"14.00\">(:Offset)</text>\n<text text-anchor=\"start\" x=\"53.1\" y=\"-15.69\" font-family=\"Times,serif\" font-size=\"14.00\">* offsetValue (Offset): str | UNIQUE</text>\n</g>\n<!-- Shoe&#45;&gt;Offset -->\n<g id=\"edge1\" class=\"edge\">\n<title>Shoe&#45;&gt;Offset</title>\n<path fill=\"none\" stroke=\"black\" stroke-width=\"2\" d=\"M258.04,-118.22C236.81,-100.23 214.67,-81.46 196.3,-65.88\"/>\n<polygon fill=\"black\" stroke=\"black\" stroke-width=\"2\" points=\"198.71,-63.33 188.82,-59.53 194.18,-68.67 198.71,-63.33\"/>\n<text text-anchor=\"middle\" x=\"278.82\" y=\"-79.18\" font-family=\"Times,serif\" font-size=\"14.00\"> &#160;[:HAS_OFFSET] &#160;</text>\n</g>\n<!-- Cushioning -->\n<g id=\"node3\" class=\"node\">\n<title>Cushioning</title>\n<ellipse fill=\"#c1cdcd\" stroke=\"black\" cx=\"519.97\" cy=\"-28.99\" rx=\"194.28\" ry=\"28.99\"/>\n<text text-anchor=\"middle\" x=\"519.97\" y=\"-32.19\" font-family=\"Times,serif\" font-size=\"14.00\">(:Cushioning)</text>\n<text text-anchor=\"start\" x=\"390.6\" y=\"-15.69\" font-family=\"Times,serif\" font-size=\"14.00\">* cushioningLevel (Cushioning): str | UNIQUE</text>\n</g>\n<!-- Shoe&#45;&gt;Cushioning -->\n<g id=\"edge2\" class=\"edge\">\n<title>Shoe&#45;&gt;Cushioning</title>\n<path fill=\"none\" stroke=\"black\" stroke-width=\"2\" d=\"M415.91,-118.22C436.97,-100.37 458.93,-81.74 477.22,-66.24\"/>\n<polygon fill=\"black\" stroke=\"black\" stroke-width=\"2\" points=\"479.3,-69.06 484.67,-59.92 474.78,-63.72 479.3,-69.06\"/>\n<text text-anchor=\"middle\" x=\"533.53\" y=\"-79.18\" font-family=\"Times,serif\" font-size=\"14.00\"> &#160;[:HAS_CUSHIONING] &#160;</text>\n</g>\n</g>\n</svg>\n",
      "text/plain": [
       "<graphviz.graphs.Digraph at 0x137deb800>"
      ]
     },
     "execution_count": 13,
     "metadata": {},
     "output_type": "execute_result"
    }
   ],
   "execution_count": 13
  },
  {
   "metadata": {
    "ExecuteTime": {
     "end_time": "2025-01-09T02:00:13.757932Z",
     "start_time": "2025-01-09T02:00:13.755320Z"
    }
   },
   "cell_type": "code",
   "source": "",
   "id": "aa4de2d111dbfd18",
   "outputs": [],
   "execution_count": 14
  },
  {
   "metadata": {
    "ExecuteTime": {
     "end_time": "2025-01-09T02:00:24.959902Z",
     "start_time": "2025-01-09T02:00:24.958011Z"
    }
   },
   "cell_type": "code",
   "source": "",
   "id": "a9f9cbd0c28566a6",
   "outputs": [],
   "execution_count": 14
  },
  {
   "metadata": {
    "ExecuteTime": {
     "end_time": "2025-01-09T02:00:28.776911Z",
     "start_time": "2025-01-09T02:00:28.774817Z"
    }
   },
   "cell_type": "code",
   "source": "",
   "id": "bcd8723807e4efb1",
   "outputs": [],
   "execution_count": 14
  },
  {
   "metadata": {
    "ExecuteTime": {
     "end_time": "2025-01-09T02:00:31.791723Z",
     "start_time": "2025-01-09T02:00:31.790189Z"
    }
   },
   "cell_type": "code",
   "source": "",
   "id": "99eb61b53963e4bb",
   "outputs": [],
   "execution_count": 14
  },
  {
   "metadata": {
    "ExecuteTime": {
     "end_time": "2025-01-06T22:08:41.282247Z",
     "start_time": "2025-01-06T22:08:41.279894Z"
    }
   },
   "cell_type": "code",
   "source": "",
   "id": "45170c730b06dbe2",
   "outputs": [],
   "execution_count": 29
  },
  {
   "metadata": {},
   "cell_type": "code",
   "outputs": [],
   "execution_count": null,
   "source": "",
   "id": "d81113e6c236f9cf"
  }
 ],
 "metadata": {
  "kernelspec": {
   "display_name": "Python 3",
   "language": "python",
   "name": "python3"
  },
  "language_info": {
   "codemirror_mode": {
    "name": "ipython",
    "version": 2
   },
   "file_extension": ".py",
   "mimetype": "text/x-python",
   "name": "python",
   "nbconvert_exporter": "python",
   "pygments_lexer": "ipython2",
   "version": "2.7.6"
  }
 },
 "nbformat": 4,
 "nbformat_minor": 5
}
