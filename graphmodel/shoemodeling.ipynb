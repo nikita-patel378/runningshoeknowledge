{
 "cells": [
  {
   "cell_type": "code",
   "id": "initial_id",
   "metadata": {
    "collapsed": true,
    "ExecuteTime": {
     "end_time": "2025-01-13T02:08:22.182550Z",
     "start_time": "2025-01-13T02:08:22.178604Z"
    }
   },
   "source": [
    "from neo4j_runway import Discovery, GraphDataModeler, PyIngest, UserInput\n",
    "from neo4j_runway.code_generation import PyIngestConfigGenerator\n",
    "from neo4j_runway.llm.openai import OpenAIDiscoveryLLM, OpenAIDataModelingLLM"
   ],
   "outputs": [],
   "execution_count": 29
  },
  {
   "metadata": {
    "ExecuteTime": {
     "end_time": "2025-01-13T02:08:23.139691Z",
     "start_time": "2025-01-13T02:08:23.135808Z"
    }
   },
   "cell_type": "code",
   "source": [
    "from dotenv import load_dotenv\n",
    "import os"
   ],
   "id": "5d5fd7f9222032a8",
   "outputs": [],
   "execution_count": 30
  },
  {
   "metadata": {
    "ExecuteTime": {
     "end_time": "2025-01-13T02:08:24.550977Z",
     "start_time": "2025-01-13T02:08:24.545399Z"
    }
   },
   "cell_type": "code",
   "source": [
    "load_dotenv(dotenv_path='dot.env')\n",
    "OPENAI_API_KEY = os.getenv(\"OPENAI_API_KEY\")\n",
    "NEO4J_URL = os.getenv(\"NEO4J_URL\")\n",
    "NEO4J_USERNAME = os.getenv(\"NEO4J_USERNAME\")\n",
    "NEO4J_PASSWORD = os.getenv(\"NEO4J_PASSWORD\")\n",
    "NEO4J_DATABASE = os.getenv(\"NEO4J_DATABASE\")"
   ],
   "id": "a13755756bf2f185",
   "outputs": [],
   "execution_count": 31
  },
  {
   "metadata": {
    "ExecuteTime": {
     "end_time": "2025-01-13T02:08:26.823434Z",
     "start_time": "2025-01-13T02:08:26.818654Z"
    }
   },
   "cell_type": "code",
   "source": [
    "from neo4j_runway.utils.data import load_local_files\n",
    "\n",
    "data_directory = \"\"\n",
    "\n",
    "data_dictionary = { 'Name': 'name of shoe.',\n",
    "                    'Brand': 'brand of shoe.',\n",
    "                    'IsCarbonPlated':'tells you whether a shoe has a carbon plate.',\n",
    "                    'Offset': 'the difference of the stack height of heel and forefoot. also known as heel to toe drop.',\n",
    "                    'Stack Height':'the height of the heel and the height of the forefoot that is given.',\n",
    "                    'Cushioning': 'the level of the cushioning of the shoe.',\n",
    "                    'Foam Cushioning': 'the name of type of foam cushioning used for the shoe.',\n",
    "                    'Notes_Shoe': 'notes about the shoe.'\n",
    "                    }\n",
    "\n",
    "use_cases = [\"Which shoe has an offset lower than 8mm?\", \"Which shoes have PWRRUN PB foam cushioning?\", \"Which shoe have a carbon plate in other features?\"]\n",
    "\n",
    "data = load_local_files(data_directory=data_directory,\n",
    "                        data_dictionary=data_dictionary,\n",
    "                        general_description=\"This is data about shoes and their attributes.\",\n",
    "                        use_cases=use_cases,\n",
    "                        include_files=[\"shoes.csv\"])"
   ],
   "id": "a819841bc286d702",
   "outputs": [],
   "execution_count": 32
  },
  {
   "metadata": {
    "ExecuteTime": {
     "end_time": "2025-01-13T02:08:27.677875Z",
     "start_time": "2025-01-13T02:08:27.642170Z"
    }
   },
   "cell_type": "code",
   "source": [
    "llm_disc = OpenAIDiscoveryLLM(model_name='gpt-4o-mini-2024-07-18', model_params={\"temperature\": 0})\n",
    "llm_dm = OpenAIDataModelingLLM(model_name='gpt-4o-2024-05-13', model_params={\"temperature\": 0.5})"
   ],
   "id": "daa614c28c0f89e7",
   "outputs": [],
   "execution_count": 33
  },
  {
   "metadata": {
    "ExecuteTime": {
     "end_time": "2025-01-13T02:08:49.411167Z",
     "start_time": "2025-01-13T02:08:29.142556Z"
    }
   },
   "cell_type": "code",
   "source": [
    "disc = Discovery(llm=llm_disc, data=data)\n",
    "disc.run()\n",
    "\n",
    "disc.run(show_result=True, notebook=True)"
   ],
   "id": "e85c3ef9642a52e",
   "outputs": [
    {
     "data": {
      "text/plain": [
       "<IPython.core.display.Markdown object>"
      ],
      "text/markdown": "### Preliminary Analysis of Shoe Data\n\n#### Overall Data Characteristics:\n1. **Data Size**: The dataset contains 36 entries (shoes) and 8 features (columns).\n2. **Data Types**: The features consist of a mix of categorical (object) and boolean data types. The majority of the features are categorical, which is common in product attribute datasets.\n3. **Missing Values**: There are several features with missing values:\n   - **Stack Height**: 26 missing values (only 10 non-null).\n   - **Cushioning**: 5 missing values (31 non-null).\n   - **Foam Cushioning**: 7 missing values (29 non-null).\n   - **Notes_Shoe**: 31 missing values (5 non-null).\n\n#### Feature Analysis:\n1. **Name**: Unique identifiers for each shoe, which is essential for distinguishing between different products.\n2. **Brand**: There are 7 unique brands, with Saucony being the most frequent (6 occurrences). This feature can help in brand-specific analysis.\n3. **IsCarbonPlated**: A boolean feature indicating whether the shoe has a carbon plate. This is crucial for performance-related queries.\n4. **Offset**: The most common offset is 8mm, with 11 occurrences. This feature is important for understanding shoe drop preferences.\n5. **Stack Height**: This feature has significant missing data, which may limit its usefulness in analysis. The most common stack height is 39.5mm/31.5mm.\n6. **Cushioning**: The most common cushioning level is \"Max\" (6 occurrences). This feature is important for understanding the comfort level of the shoes.\n7. **Foam Cushioning**: The most common foam type is \"Helion\" (3 occurrences). This feature can be important for material-specific queries.\n8. **Notes_Shoe**: This feature has limited data and may not be very useful due to the high number of missing values.\n\n#### Important Features for Use Cases:\n- **Offset**: To identify shoes with an offset lower than 8mm, this feature is critical.\n- **Foam Cushioning**: To find shoes with PWRRUN PB foam cushioning, this feature is essential.\n- **IsCarbonPlated**: To determine which shoes have a carbon plate, this boolean feature is key, along with other features that may provide context (like brand or cushioning).\n\n### Summary:\nThe dataset provides a good overview of various shoe attributes, but the high number of missing values in certain features (especially Stack Height and Notes_Shoe) may limit the depth of analysis. The most important features for the specified use cases are Offset, Foam Cushioning, and IsCarbonPlated. Addressing the missing values could enhance the dataset's usability for more comprehensive insights."
     },
     "metadata": {},
     "output_type": "display_data"
    },
    {
     "data": {
      "text/plain": [
       "<IPython.core.display.Markdown object>"
      ],
      "text/markdown": "### Preliminary Analysis of Shoe Data\n\n#### Overall Data Characteristics:\n1. **Data Size**: The dataset contains 36 entries (shoes) and 8 features (columns).\n2. **Data Types**: The features consist of a mix of categorical (object) and boolean data types. The majority of the features are categorical, which is common in product attribute datasets.\n3. **Missing Values**: There are several features with missing values:\n   - **Stack Height**: 26 missing values (only 10 non-null).\n   - **Cushioning**: 5 missing values (31 non-null).\n   - **Foam Cushioning**: 7 missing values (29 non-null).\n   - **Notes_Shoe**: 31 missing values (5 non-null).\n\n#### Feature Analysis:\n1. **Name**: Unique identifiers for each shoe, which is essential for distinguishing between different products.\n2. **Brand**: There are 7 unique brands, with Saucony being the most frequent (6 occurrences). This feature can help in brand-specific analysis.\n3. **IsCarbonPlated**: A boolean feature indicating whether the shoe has a carbon plate. This is crucial for performance-related queries.\n4. **Offset**: This feature has 9 unique values, with 8mm being the most common (11 occurrences). It is important for understanding shoe drop preferences.\n5. **Stack Height**: This feature has significant missing data, which may limit its usefulness. The most common value is 39.5mm/31.5mm.\n6. **Cushioning**: With 14 unique values and a top frequency of 'Max', this feature is important for understanding the comfort level of the shoes.\n7. **Foam Cushioning**: This feature has 16 unique types, with 'Helion' being the most common. It is important for material-specific queries.\n8. **Notes_Shoe**: This feature has limited data and may not be very useful due to the high number of missing values.\n\n#### Important Features for Use Cases:\n- **Offset**: To identify shoes with an offset lower than 8mm.\n- **Foam Cushioning**: To find shoes with PWRRUN PB foam cushioning.\n- **IsCarbonPlated**: To determine which shoes have a carbon plate, along with other features.\n\n### Summary:\nThe dataset provides a good overview of various shoe attributes, but the high number of missing values in certain features (especially Stack Height and Notes_Shoe) may limit the analysis. The most important features for the specified use cases are Offset, Foam Cushioning, and IsCarbonPlated, as they directly relate to the queries of interest. Further analysis could focus on shoes with specific attributes, especially those that are popular or frequently mentioned."
     },
     "metadata": {},
     "output_type": "display_data"
    }
   ],
   "execution_count": 34
  },
  {
   "metadata": {
    "ExecuteTime": {
     "end_time": "2025-01-13T02:11:09.578725Z",
     "start_time": "2025-01-13T02:11:09.576589Z"
    }
   },
   "cell_type": "code",
   "source": "gdm = GraphDataModeler(llm=llm_dm, discovery=disc)",
   "id": "d2d1d515bbe96171",
   "outputs": [],
   "execution_count": 38
  },
  {
   "metadata": {
    "ExecuteTime": {
     "end_time": "2025-01-13T02:11:22.671313Z",
     "start_time": "2025-01-13T02:11:11.086387Z"
    }
   },
   "cell_type": "code",
   "source": "gdm.create_initial_model()",
   "id": "4cd786cf49beed63",
   "outputs": [
    {
     "name": "stdout",
     "output_type": "stream",
     "text": [
      "\u001B[1m> Generating Nodes...\u001B[00m\n",
      "\u001B[3mAttempts | 3  \u001B[0m\n",
      "Received \u001B[92mValid\u001B[00m Nodes\n",
      "Nodes\n",
      "* \u001B[96m(:Shoe)\u001B[00m   * \u001B[96m(:Brand)\u001B[00m \n",
      "\n",
      "\u001B[1m> Generating Data Model...\u001B[00m\n",
      "\u001B[3mAttempts | 1  \u001B[0m\n",
      "Received \u001B[92mValid\u001B[00m Data Model\n",
      "Nodes\n",
      "* \u001B[96m(:Shoe)\u001B[00m   * \u001B[96m(:Brand)\u001B[00m \n",
      "\n",
      "Relationships\n",
      "* \u001B[96m(:Shoe)-[:HAS_BRAND]->(:Brand)\u001B[00m   \n"
     ]
    },
    {
     "data": {
      "text/plain": [
       "DataModel(nodes=[Node(label='Shoe', properties=[Property(name='name', type='str', column_mapping='Name', alias=None, is_unique=True, part_of_key=False), Property(name='isCarbonPlated', type='bool', column_mapping='IsCarbonPlated', alias=None, is_unique=False, part_of_key=False), Property(name='offset', type='str', column_mapping='Offset', alias=None, is_unique=False, part_of_key=False), Property(name='stackHeight', type='str', column_mapping='Stack Height', alias=None, is_unique=False, part_of_key=False), Property(name='cushioning', type='str', column_mapping='Cushioning', alias=None, is_unique=False, part_of_key=False), Property(name='foamCushioning', type='str', column_mapping='Foam Cushioning', alias=None, is_unique=False, part_of_key=False), Property(name='notesShoe', type='str', column_mapping='Notes_Shoe', alias=None, is_unique=False, part_of_key=False)], source_name='file'), Node(label='Brand', properties=[Property(name='brandName', type='str', column_mapping='Brand', alias='Brand', is_unique=True, part_of_key=False)], source_name='file')], relationships=[Relationship(type='HAS_BRAND', properties=[], source='Shoe', target='Brand', source_name='file')], metadata=None)"
      ]
     },
     "execution_count": 39,
     "metadata": {},
     "output_type": "execute_result"
    }
   ],
   "execution_count": 39
  },
  {
   "metadata": {
    "ExecuteTime": {
     "end_time": "2025-01-13T02:11:28.928387Z",
     "start_time": "2025-01-13T02:11:28.823161Z"
    }
   },
   "cell_type": "code",
   "source": "gdm.current_model.visualize()",
   "id": "236352fede62217b",
   "outputs": [
    {
     "data": {
      "image/svg+xml": "<?xml version=\"1.0\" encoding=\"UTF-8\" standalone=\"no\"?>\n<!DOCTYPE svg PUBLIC \"-//W3C//DTD SVG 1.1//EN\"\n \"http://www.w3.org/Graphics/SVG/1.1/DTD/svg11.dtd\">\n<!-- Generated by graphviz version 12.1.1 (20240910.0053)\n -->\n<!-- Pages: 1 -->\n<svg width=\"423pt\" height=\"380pt\"\n viewBox=\"0.00 0.00 423.43 380.47\" xmlns=\"http://www.w3.org/2000/svg\" xmlns:xlink=\"http://www.w3.org/1999/xlink\">\n<g id=\"graph0\" class=\"graph\" transform=\"scale(1 1) rotate(0) translate(36 344.47)\">\n<polygon fill=\"azure\" stroke=\"none\" points=\"-36,36 -36,-344.47 387.43,-344.47 387.43,36 -36,36\"/>\n<!-- Shoe -->\n<g id=\"node1\" class=\"node\">\n<title>Shoe</title>\n<ellipse fill=\"#c1cdcd\" stroke=\"black\" cx=\"175.72\" cy=\"-209.48\" rx=\"175.72\" ry=\"98.99\"/>\n<text text-anchor=\"middle\" x=\"175.72\" y=\"-262.18\" font-family=\"Times,serif\" font-size=\"14.00\">(:Shoe)</text>\n<text text-anchor=\"start\" x=\"59.47\" y=\"-245.68\" font-family=\"Times,serif\" font-size=\"14.00\">* name (Name): str | UNIQUE</text>\n<text text-anchor=\"start\" x=\"59.47\" y=\"-229.18\" font-family=\"Times,serif\" font-size=\"14.00\">* isCarbonPlated (IsCarbonPlated): bool</text>\n<text text-anchor=\"start\" x=\"59.47\" y=\"-212.68\" font-family=\"Times,serif\" font-size=\"14.00\">* offset (Offset): str</text>\n<text text-anchor=\"start\" x=\"59.47\" y=\"-196.18\" font-family=\"Times,serif\" font-size=\"14.00\">* stackHeight (Stack Height): str</text>\n<text text-anchor=\"start\" x=\"59.47\" y=\"-179.68\" font-family=\"Times,serif\" font-size=\"14.00\">* cushioning (Cushioning): str</text>\n<text text-anchor=\"start\" x=\"59.47\" y=\"-163.18\" font-family=\"Times,serif\" font-size=\"14.00\">* foamCushioning (Foam Cushioning): str</text>\n<text text-anchor=\"start\" x=\"59.47\" y=\"-146.68\" font-family=\"Times,serif\" font-size=\"14.00\">* notesShoe (Notes_Shoe): str</text>\n</g>\n<!-- Brand -->\n<g id=\"node2\" class=\"node\">\n<title>Brand</title>\n<ellipse fill=\"#c1cdcd\" stroke=\"black\" cx=\"175.72\" cy=\"-28.99\" rx=\"155.03\" ry=\"28.99\"/>\n<text text-anchor=\"middle\" x=\"175.72\" y=\"-32.19\" font-family=\"Times,serif\" font-size=\"14.00\">(:Brand)</text>\n<text text-anchor=\"start\" x=\"74.09\" y=\"-15.69\" font-family=\"Times,serif\" font-size=\"14.00\">* brandName (Brand): str | UNIQUE</text>\n</g>\n<!-- Shoe&#45;&gt;Brand -->\n<g id=\"edge1\" class=\"edge\">\n<title>Shoe&#45;&gt;Brand</title>\n<path fill=\"none\" stroke=\"black\" stroke-width=\"2\" d=\"M175.72,-110.1C175.72,-96.51 175.72,-83.2 175.72,-71.46\"/>\n<polygon fill=\"black\" stroke=\"black\" stroke-width=\"2\" points=\"179.22,-71.5 175.72,-61.5 172.22,-71.5 179.22,-71.5\"/>\n<text text-anchor=\"middle\" x=\"230.09\" y=\"-79.18\" font-family=\"Times,serif\" font-size=\"14.00\"> &#160;[:HAS_BRAND] &#160;</text>\n</g>\n</g>\n</svg>\n",
      "text/plain": [
       "<graphviz.graphs.Digraph at 0x12aa73440>"
      ]
     },
     "execution_count": 40,
     "metadata": {},
     "output_type": "execute_result"
    }
   ],
   "execution_count": 40
  },
  {
   "metadata": {},
   "cell_type": "markdown",
   "source": "### Now that we have generated a model, we can make changes to the model ###",
   "id": "4cd0bc7d6f57c241"
  },
  {
   "metadata": {
    "ExecuteTime": {
     "end_time": "2025-01-13T02:12:24.928841Z",
     "start_time": "2025-01-13T02:12:21.225056Z"
    }
   },
   "cell_type": "code",
   "source": [
    "gdm.iterate_model(corrections=\"Create a Cushioning node with Cushioning property.\")\n",
    "gdm.current_model.visualize()"
   ],
   "id": "99858d1b3b5fdfe5",
   "outputs": [
    {
     "name": "stdout",
     "output_type": "stream",
     "text": [
      "\u001B[1m> Generating Data Model...\u001B[00m\n",
      "\u001B[3mAttempts | 1  \u001B[0m\n",
      "Received \u001B[92mValid\u001B[00m Data Model\n",
      "Nodes\n",
      "* \u001B[96m(:Shoe)\u001B[00m         * \u001B[96m(:Brand)\u001B[00m\n",
      "* \u001B[96m(:Cushioning)\u001B[00m    \n",
      "\n",
      "Relationships\n",
      "* \u001B[96m(:Shoe)-[:HAS_BRAND]->(:Brand)\u001B[00m             \n",
      "* \u001B[96m(:Shoe)-[:HAS_CUSHIONING]->(:Cushioning)\u001B[00m   \n"
     ]
    },
    {
     "data": {
      "image/svg+xml": "<?xml version=\"1.0\" encoding=\"UTF-8\" standalone=\"no\"?>\n<!DOCTYPE svg PUBLIC \"-//W3C//DTD SVG 1.1//EN\"\n \"http://www.w3.org/Graphics/SVG/1.1/DTD/svg11.dtd\">\n<!-- Generated by graphviz version 12.1.1 (20240910.0053)\n -->\n<!-- Pages: 1 -->\n<svg width=\"784pt\" height=\"357pt\"\n viewBox=\"0.00 0.00 784.19 357.14\" xmlns=\"http://www.w3.org/2000/svg\" xmlns:xlink=\"http://www.w3.org/1999/xlink\">\n<g id=\"graph0\" class=\"graph\" transform=\"scale(1 1) rotate(0) translate(36 321.14)\">\n<polygon fill=\"azure\" stroke=\"none\" points=\"-36,36 -36,-321.14 748.19,-321.14 748.19,36 -36,36\"/>\n<!-- Shoe -->\n<g id=\"node1\" class=\"node\">\n<title>Shoe</title>\n<ellipse fill=\"#c1cdcd\" stroke=\"black\" cx=\"337.03\" cy=\"-197.81\" rx=\"175.72\" ry=\"87.33\"/>\n<text text-anchor=\"middle\" x=\"337.03\" y=\"-242.26\" font-family=\"Times,serif\" font-size=\"14.00\">(:Shoe)</text>\n<text text-anchor=\"start\" x=\"220.78\" y=\"-225.76\" font-family=\"Times,serif\" font-size=\"14.00\">* name (Name): str | UNIQUE</text>\n<text text-anchor=\"start\" x=\"220.78\" y=\"-209.26\" font-family=\"Times,serif\" font-size=\"14.00\">* isCarbonPlated (IsCarbonPlated): bool</text>\n<text text-anchor=\"start\" x=\"220.78\" y=\"-192.76\" font-family=\"Times,serif\" font-size=\"14.00\">* offset (Offset): str</text>\n<text text-anchor=\"start\" x=\"220.78\" y=\"-176.26\" font-family=\"Times,serif\" font-size=\"14.00\">* stackHeight (Stack Height): str</text>\n<text text-anchor=\"start\" x=\"220.78\" y=\"-159.76\" font-family=\"Times,serif\" font-size=\"14.00\">* foamCushioning (Foam Cushioning): str</text>\n<text text-anchor=\"start\" x=\"220.78\" y=\"-143.26\" font-family=\"Times,serif\" font-size=\"14.00\">* notesShoe (Notes_Shoe): str</text>\n</g>\n<!-- Brand -->\n<g id=\"node2\" class=\"node\">\n<title>Brand</title>\n<ellipse fill=\"#c1cdcd\" stroke=\"black\" cx=\"155.03\" cy=\"-28.99\" rx=\"155.03\" ry=\"28.99\"/>\n<text text-anchor=\"middle\" x=\"155.03\" y=\"-32.19\" font-family=\"Times,serif\" font-size=\"14.00\">(:Brand)</text>\n<text text-anchor=\"start\" x=\"53.41\" y=\"-15.69\" font-family=\"Times,serif\" font-size=\"14.00\">* brandName (Brand): str | UNIQUE</text>\n</g>\n<!-- Shoe&#45;&gt;Brand -->\n<g id=\"edge1\" class=\"edge\">\n<title>Shoe&#45;&gt;Brand</title>\n<path fill=\"none\" stroke=\"black\" stroke-width=\"2\" d=\"M253.76,-120.48C233.07,-101.51 211.84,-82.06 194.39,-66.07\"/>\n<polygon fill=\"black\" stroke=\"black\" stroke-width=\"2\" points=\"197.09,-63.79 187.35,-59.61 192.36,-68.95 197.09,-63.79\"/>\n<text text-anchor=\"middle\" x=\"273.47\" y=\"-79.18\" font-family=\"Times,serif\" font-size=\"14.00\"> &#160;[:HAS_BRAND] &#160;</text>\n</g>\n<!-- Cushioning -->\n<g id=\"node3\" class=\"node\">\n<title>Cushioning</title>\n<ellipse fill=\"#c1cdcd\" stroke=\"black\" cx=\"520.03\" cy=\"-28.99\" rx=\"192.16\" ry=\"28.99\"/>\n<text text-anchor=\"middle\" x=\"520.03\" y=\"-32.19\" font-family=\"Times,serif\" font-size=\"14.00\">(:Cushioning)</text>\n<text text-anchor=\"start\" x=\"392.16\" y=\"-15.69\" font-family=\"Times,serif\" font-size=\"14.00\">* cushioningType (Cushioning): str | UNIQUE</text>\n</g>\n<!-- Shoe&#45;&gt;Cushioning -->\n<g id=\"edge2\" class=\"edge\">\n<title>Shoe&#45;&gt;Cushioning</title>\n<path fill=\"none\" stroke=\"black\" stroke-width=\"2\" d=\"M420.5,-120.72C441.18,-101.87 462.41,-82.52 479.92,-66.55\"/>\n<polygon fill=\"black\" stroke=\"black\" stroke-width=\"2\" points=\"481.98,-69.42 487.01,-60.1 477.26,-64.25 481.98,-69.42\"/>\n<text text-anchor=\"middle\" x=\"538.71\" y=\"-79.18\" font-family=\"Times,serif\" font-size=\"14.00\"> &#160;[:HAS_CUSHIONING] &#160;</text>\n</g>\n</g>\n</svg>\n",
      "text/plain": [
       "<graphviz.graphs.Digraph at 0x12c8f3800>"
      ]
     },
     "execution_count": 41,
     "metadata": {},
     "output_type": "execute_result"
    }
   ],
   "execution_count": 41
  },
  {
   "metadata": {
    "ExecuteTime": {
     "end_time": "2025-01-13T02:13:12.029196Z",
     "start_time": "2025-01-13T02:13:08.140028Z"
    }
   },
   "cell_type": "code",
   "source": [
    "gdm.iterate_model(corrections=\"Create an Offset node with offset property.\")\n",
    "gdm.current_model.visualize()"
   ],
   "id": "345aeba4300ae38e",
   "outputs": [
    {
     "name": "stdout",
     "output_type": "stream",
     "text": [
      "\u001B[1m> Generating Data Model...\u001B[00m\n",
      "\u001B[3mAttempts | 1  \u001B[0m\n",
      "Received \u001B[92mValid\u001B[00m Data Model\n",
      "Nodes\n",
      "* \u001B[96m(:Shoe)\u001B[00m         * \u001B[96m(:Brand)\u001B[00m\n",
      "* \u001B[96m(:Cushioning)\u001B[00m   * \u001B[96m(:Offset)\u001B[00m \n",
      "\n",
      "Relationships\n",
      "* \u001B[96m(:Shoe)-[:HAS_BRAND]->(:Brand)\u001B[00m             \n",
      "* \u001B[96m(:Shoe)-[:HAS_CUSHIONING]->(:Cushioning)\u001B[00m   \n",
      "* \u001B[96m(:Shoe)-[:HAS_OFFSET]->(:Offset)\u001B[00m           \n"
     ]
    },
    {
     "data": {
      "image/svg+xml": "<?xml version=\"1.0\" encoding=\"UTF-8\" standalone=\"no\"?>\n<!DOCTYPE svg PUBLIC \"-//W3C//DTD SVG 1.1//EN\"\n \"http://www.w3.org/Graphics/SVG/1.1/DTD/svg11.dtd\">\n<!-- Generated by graphviz version 12.1.1 (20240910.0053)\n -->\n<!-- Pages: 1 -->\n<svg width=\"1110pt\" height=\"334pt\"\n viewBox=\"0.00 0.00 1110.01 333.80\" xmlns=\"http://www.w3.org/2000/svg\" xmlns:xlink=\"http://www.w3.org/1999/xlink\">\n<g id=\"graph0\" class=\"graph\" transform=\"scale(1 1) rotate(0) translate(36 297.8)\">\n<polygon fill=\"azure\" stroke=\"none\" points=\"-36,36 -36,-297.8 1074.01,-297.8 1074.01,36 -36,36\"/>\n<!-- Shoe -->\n<g id=\"node1\" class=\"node\">\n<title>Shoe</title>\n<ellipse fill=\"#c1cdcd\" stroke=\"black\" cx=\"520.03\" cy=\"-186.14\" rx=\"175.72\" ry=\"75.66\"/>\n<text text-anchor=\"middle\" x=\"520.03\" y=\"-222.34\" font-family=\"Times,serif\" font-size=\"14.00\">(:Shoe)</text>\n<text text-anchor=\"start\" x=\"403.78\" y=\"-205.84\" font-family=\"Times,serif\" font-size=\"14.00\">* name (Name): str | UNIQUE</text>\n<text text-anchor=\"start\" x=\"403.78\" y=\"-189.34\" font-family=\"Times,serif\" font-size=\"14.00\">* isCarbonPlated (IsCarbonPlated): bool</text>\n<text text-anchor=\"start\" x=\"403.78\" y=\"-172.84\" font-family=\"Times,serif\" font-size=\"14.00\">* stackHeight (Stack Height): str</text>\n<text text-anchor=\"start\" x=\"403.78\" y=\"-156.34\" font-family=\"Times,serif\" font-size=\"14.00\">* foamCushioning (Foam Cushioning): str</text>\n<text text-anchor=\"start\" x=\"403.78\" y=\"-139.84\" font-family=\"Times,serif\" font-size=\"14.00\">* notesShoe (Notes_Shoe): str</text>\n</g>\n<!-- Brand -->\n<g id=\"node2\" class=\"node\">\n<title>Brand</title>\n<ellipse fill=\"#c1cdcd\" stroke=\"black\" cx=\"155.03\" cy=\"-28.99\" rx=\"155.03\" ry=\"28.99\"/>\n<text text-anchor=\"middle\" x=\"155.03\" y=\"-32.19\" font-family=\"Times,serif\" font-size=\"14.00\">(:Brand)</text>\n<text text-anchor=\"start\" x=\"53.41\" y=\"-15.69\" font-family=\"Times,serif\" font-size=\"14.00\">* brandName (Brand): str | UNIQUE</text>\n</g>\n<!-- Shoe&#45;&gt;Brand -->\n<g id=\"edge1\" class=\"edge\">\n<title>Shoe&#45;&gt;Brand</title>\n<path fill=\"none\" stroke=\"black\" stroke-width=\"2\" d=\"M395.7,-132.29C339.89,-108.57 275.99,-81.41 228.06,-61.03\"/>\n<polygon fill=\"black\" stroke=\"black\" stroke-width=\"2\" points=\"229.59,-57.88 219.02,-57.19 226.85,-64.32 229.59,-57.88\"/>\n<text text-anchor=\"middle\" x=\"348.48\" y=\"-79.18\" font-family=\"Times,serif\" font-size=\"14.00\"> &#160;[:HAS_BRAND] &#160;</text>\n</g>\n<!-- Cushioning -->\n<g id=\"node3\" class=\"node\">\n<title>Cushioning</title>\n<ellipse fill=\"#c1cdcd\" stroke=\"black\" cx=\"520.03\" cy=\"-28.99\" rx=\"192.16\" ry=\"28.99\"/>\n<text text-anchor=\"middle\" x=\"520.03\" y=\"-32.19\" font-family=\"Times,serif\" font-size=\"14.00\">(:Cushioning)</text>\n<text text-anchor=\"start\" x=\"392.16\" y=\"-15.69\" font-family=\"Times,serif\" font-size=\"14.00\">* cushioningType (Cushioning): str | UNIQUE</text>\n</g>\n<!-- Shoe&#45;&gt;Cushioning -->\n<g id=\"edge2\" class=\"edge\">\n<title>Shoe&#45;&gt;Cushioning</title>\n<path fill=\"none\" stroke=\"black\" stroke-width=\"2\" d=\"M520.03,-110.29C520.03,-96.78 520.03,-83.16 520.03,-71.07\"/>\n<polygon fill=\"black\" stroke=\"black\" stroke-width=\"2\" points=\"523.53,-71.18 520.03,-61.18 516.53,-71.18 523.53,-71.18\"/>\n<text text-anchor=\"middle\" x=\"592.78\" y=\"-79.18\" font-family=\"Times,serif\" font-size=\"14.00\"> &#160;[:HAS_CUSHIONING] &#160;</text>\n</g>\n<!-- Offset -->\n<g id=\"node4\" class=\"node\">\n<title>Offset</title>\n<ellipse fill=\"#c1cdcd\" stroke=\"black\" cx=\"884.03\" cy=\"-28.99\" rx=\"153.97\" ry=\"28.99\"/>\n<text text-anchor=\"middle\" x=\"884.03\" y=\"-32.19\" font-family=\"Times,serif\" font-size=\"14.00\">(:Offset)</text>\n<text text-anchor=\"start\" x=\"783.16\" y=\"-15.69\" font-family=\"Times,serif\" font-size=\"14.00\">* offsetValue (Offset): str | UNIQUE</text>\n</g>\n<!-- Shoe&#45;&gt;Offset -->\n<g id=\"edge3\" class=\"edge\">\n<title>Shoe&#45;&gt;Offset</title>\n<path fill=\"none\" stroke=\"black\" stroke-width=\"2\" d=\"M644.28,-132.18C699.91,-108.47 763.57,-81.34 811.31,-60.99\"/>\n<polygon fill=\"black\" stroke=\"black\" stroke-width=\"2\" points=\"812.48,-64.3 820.3,-57.16 809.73,-57.86 812.48,-64.3\"/>\n<text text-anchor=\"middle\" x=\"821.42\" y=\"-79.18\" font-family=\"Times,serif\" font-size=\"14.00\"> &#160;[:HAS_OFFSET] &#160;</text>\n</g>\n</g>\n</svg>\n",
      "text/plain": [
       "<graphviz.graphs.Digraph at 0x12cb12e10>"
      ]
     },
     "execution_count": 42,
     "metadata": {},
     "output_type": "execute_result"
    }
   ],
   "execution_count": 42
  },
  {
   "metadata": {
    "ExecuteTime": {
     "end_time": "2025-01-13T02:13:39.027002Z",
     "start_time": "2025-01-13T02:13:39.020800Z"
    }
   },
   "cell_type": "code",
   "source": [
    "gen = PyIngestConfigGenerator(data_model=gdm.current_model,\n",
    "                         username=os.environ.get(\"NEO4J_USERNAME\"),\n",
    "                         password=os.environ.get(\"NEO4J_PASSWORD\"),\n",
    "                         uri=os.environ.get(\"NEO4J_URL\"),\n",
    "                         database=os.environ.get(\"NEO4J_DATABASE\"),\n",
    "                         file_directory=data_directory, source_name=\"shoes.csv\")\n",
    "\n",
    "pyingest_yaml = gen.generate_config_string()\n"
   ],
   "id": "7723a9e12e257b84",
   "outputs": [],
   "execution_count": 43
  },
  {
   "metadata": {
    "ExecuteTime": {
     "end_time": "2025-01-13T02:13:40.838573Z",
     "start_time": "2025-01-13T02:13:40.823731Z"
    }
   },
   "cell_type": "code",
   "source": "gen.generate_config_yaml(file_name=\"shoes.yaml\")",
   "id": "aa4de2d111dbfd18",
   "outputs": [],
   "execution_count": 44
  },
  {
   "metadata": {},
   "cell_type": "markdown",
   "source": "",
   "id": "f5d36c8db7c00ed6"
  },
  {
   "metadata": {
    "ExecuteTime": {
     "end_time": "2025-01-13T02:15:06.288549Z",
     "start_time": "2025-01-13T02:15:06.006658Z"
    }
   },
   "cell_type": "code",
   "source": "PyIngest(config=pyingest_yaml, verbose=False)",
   "id": "a9f9cbd0c28566a6",
   "outputs": [],
   "execution_count": 46
  },
  {
   "metadata": {
    "ExecuteTime": {
     "end_time": "2025-01-09T02:00:28.776911Z",
     "start_time": "2025-01-09T02:00:28.774817Z"
    }
   },
   "cell_type": "code",
   "source": "",
   "id": "bcd8723807e4efb1",
   "outputs": [],
   "execution_count": 14
  },
  {
   "metadata": {
    "ExecuteTime": {
     "end_time": "2025-01-09T02:00:31.791723Z",
     "start_time": "2025-01-09T02:00:31.790189Z"
    }
   },
   "cell_type": "code",
   "source": "",
   "id": "99eb61b53963e4bb",
   "outputs": [],
   "execution_count": 14
  },
  {
   "metadata": {
    "ExecuteTime": {
     "end_time": "2025-01-06T22:08:41.282247Z",
     "start_time": "2025-01-06T22:08:41.279894Z"
    }
   },
   "cell_type": "code",
   "source": "",
   "id": "45170c730b06dbe2",
   "outputs": [],
   "execution_count": 29
  },
  {
   "metadata": {},
   "cell_type": "code",
   "outputs": [],
   "execution_count": null,
   "source": "",
   "id": "d81113e6c236f9cf"
  }
 ],
 "metadata": {
  "kernelspec": {
   "display_name": "Python 3",
   "language": "python",
   "name": "python3"
  },
  "language_info": {
   "codemirror_mode": {
    "name": "ipython",
    "version": 2
   },
   "file_extension": ".py",
   "mimetype": "text/x-python",
   "name": "python",
   "nbconvert_exporter": "python",
   "pygments_lexer": "ipython2",
   "version": "2.7.6"
  }
 },
 "nbformat": 4,
 "nbformat_minor": 5
}
