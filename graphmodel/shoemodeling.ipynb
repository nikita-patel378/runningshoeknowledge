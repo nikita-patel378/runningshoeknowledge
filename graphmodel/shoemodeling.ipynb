{
 "cells": [
  {
   "cell_type": "code",
   "id": "initial_id",
   "metadata": {
    "collapsed": true,
    "ExecuteTime": {
     "end_time": "2025-01-06T21:23:50.829890Z",
     "start_time": "2025-01-06T21:23:46.554712Z"
    }
   },
   "source": [
    "from neo4j_runway import Discovery, GraphDataModeler, PyIngest, UserInput\n",
    "from neo4j_runway.code_generation import PyIngestConfigGenerator\n",
    "from neo4j_runway.llm.openai import OpenAIDiscoveryLLM, OpenAIDataModelingLLM"
   ],
   "outputs": [],
   "execution_count": 2
  },
  {
   "metadata": {
    "ExecuteTime": {
     "end_time": "2025-01-06T21:38:15.194988Z",
     "start_time": "2025-01-06T21:38:13.964773Z"
    }
   },
   "cell_type": "code",
   "source": [
    "from dotenv import load_dotenv\n",
    "import os"
   ],
   "id": "5d5fd7f9222032a8",
   "outputs": [
    {
     "name": "stdout",
     "output_type": "stream",
     "text": [
      "\r\n",
      "\u001B[1m[\u001B[0m\u001B[34;49mnotice\u001B[0m\u001B[1;39;49m]\u001B[0m\u001B[39;49m A new release of pip is available: \u001B[0m\u001B[31;49m23.2.1\u001B[0m\u001B[39;49m -> \u001B[0m\u001B[32;49m24.3.1\u001B[0m\r\n",
      "\u001B[1m[\u001B[0m\u001B[34;49mnotice\u001B[0m\u001B[1;39;49m]\u001B[0m\u001B[39;49m To update, run: \u001B[0m\u001B[32;49mpip install --upgrade pip\u001B[0m\r\n"
     ]
    }
   ],
   "execution_count": 10
  },
  {
   "metadata": {
    "ExecuteTime": {
     "end_time": "2025-01-06T21:43:02.198713Z",
     "start_time": "2025-01-06T21:43:02.193851Z"
    }
   },
   "cell_type": "code",
   "source": [
    "load_dotenv(dotenv_path='dot.env')\n",
    "OPENAI_API_KEY = os.getenv(\"OPENAI_API_KEY\")\n",
    "NEO4J_URL = os.getenv(\"NEO4J_URL\")\n",
    "NEO4J_USERNAME = os.getenv(\"NEO4J_USERNAME\")\n",
    "NEO4J_PASSWORD = os.getenv(\"NEO4J_PASSWORD\")"
   ],
   "id": "a13755756bf2f185",
   "outputs": [],
   "execution_count": 13
  },
  {
   "metadata": {
    "ExecuteTime": {
     "end_time": "2025-01-06T21:36:01.317562Z",
     "start_time": "2025-01-06T21:36:01.311928Z"
    }
   },
   "cell_type": "code",
   "source": [
    "from neo4j_runway.utils.data import load_local_files\n",
    "\n",
    "data_directory = \"\"\n",
    "\n",
    "data_dictionary = { 'Name': 'name of shoe.',\n",
    "                    'Brand': 'brand of shoe.',\n",
    "                    'Description':'description of shoe.',\n",
    "                    'Other Features':'other details about the shoe.',\n",
    "                    'Offset': 'the difference of the stack height of heel and forefoot. also known as heel to toe drop.',\n",
    "                    'Stack Height':'the height of the heel and the height of the forefoot that is given.',\n",
    "                    'Cushioning': 'the level of the cushioning of the shoe.',\n",
    "                    'Foam Cushioning': 'the name of type of foam cushioning used for the shoe.'\n",
    "                    }\n",
    "\n",
    "use_cases = [\"Which shoe has an offset lower than 8mm?\", \"Which shoes have PWRRUN PB foam cushioning?\", \"Which shoe have a carbon plate in other features?\"]\n",
    "\n",
    "data = load_local_files(data_directory=data_directory,\n",
    "                        data_dictionary=data_dictionary,\n",
    "                        general_description=\"This is data about shoes and their attributes.\",\n",
    "                        use_cases=use_cases,\n",
    "                        include_files=[\"shoes.csv\"])"
   ],
   "id": "a819841bc286d702",
   "outputs": [],
   "execution_count": 7
  },
  {
   "metadata": {
    "ExecuteTime": {
     "end_time": "2025-01-06T21:43:32.971960Z",
     "start_time": "2025-01-06T21:43:32.912323Z"
    }
   },
   "cell_type": "code",
   "source": [
    "llm_disc = OpenAIDiscoveryLLM(model_name='gpt-4o-mini-2024-07-18', model_params={\"temperature\": 0})\n",
    "llm_dm = OpenAIDataModelingLLM(model_name='gpt-4o-2024-05-13', model_params={\"temperature\": 0.5})"
   ],
   "id": "daa614c28c0f89e7",
   "outputs": [],
   "execution_count": 14
  },
  {
   "metadata": {
    "ExecuteTime": {
     "end_time": "2025-01-06T21:44:30.851379Z",
     "start_time": "2025-01-06T21:44:09.271956Z"
    }
   },
   "cell_type": "code",
   "source": [
    "disc = Discovery(llm=llm_disc, data=data)\n",
    "disc.run()\n",
    "\n",
    "disc.run(show_result=True, notebook=True)"
   ],
   "id": "e85c3ef9642a52e",
   "outputs": [
    {
     "data": {
      "text/plain": [
       "<IPython.core.display.Markdown object>"
      ],
      "text/markdown": "### Preliminary Analysis of Shoe Data\n\n#### Overall Details:\n1. **Data Structure**: The dataset consists of 6 entries (shoes) and 8 attributes. All attributes are of type `object`, indicating that they are categorical or textual in nature.\n2. **Non-Null Values**: There are no missing values in any of the columns, which is beneficial for analysis as it ensures completeness of the dataset.\n3. **Memory Usage**: The dataset is relatively small, with a memory usage of approximately 516 bytes.\n\n#### Feature Analysis:\n1. **Name**: 6 unique shoe names, indicating a diverse selection. The most frequent name is \"Endorphin Speed 4\".\n2. **Brand**: All shoes belong to the same brand, \"Saucony\", which may limit the analysis of brand diversity but simplifies brand-related queries.\n3. **Description**: Each shoe has a unique description, which may provide insights into marketing and positioning but does not contribute to quantitative analysis.\n4. **Other Features**: This column contains unique features for each shoe, with \"Winged Nylon Plate\" being the most common. This could be relevant for performance-related queries.\n5. **Offset**: There are 3 unique values for offset, with the most common being \"8mm\" (4 occurrences). This feature is crucial for identifying shoes with specific drop characteristics.\n6. **Stack Height**: 5 unique stack height values, with the most common being \"39.5mm/31.5mm\" (2 occurrences). This feature is important for understanding the overall height of the shoe.\n7. **Cushioning**: 4 unique cushioning levels, with \"3/5\" being the most common (3 occurrences). This feature is significant for assessing comfort and performance.\n8. **Foam Cushioning**: 5 unique types of foam cushioning, with \"PWRRUN PB\" being the most common (2 occurrences). This is a key feature for identifying specific cushioning technologies.\n\n#### Use Case Insights:\n- **Offset Lower than 8mm**: Since the most common offset is 8mm, it is important to check the unique values to identify any shoes with lower offsets. The dataset indicates that there are shoes with offsets lower than 8mm, but specific values need to be checked.\n- **PWRRUN PB Foam Cushioning**: There are shoes that utilize \"PWRRUN PB\" foam cushioning, which can be identified easily from the dataset.\n- **Carbon Plate in Other Features**: The presence of a carbon plate in the \"Other Features\" column can be checked against the unique values to identify relevant shoes.\n\n#### Important Features:\n- **Offset** and **Foam Cushioning** are particularly important for performance-related queries, as they directly impact the shoe's functionality and user experience.\n- **Other Features** may provide additional insights into the shoe's design and technology, which can be relevant for specific use cases.\n\nOverall, the dataset is well-structured for analysis, with clear attributes that can be leveraged to answer specific queries related to shoe characteristics."
     },
     "metadata": {},
     "output_type": "display_data"
    },
    {
     "data": {
      "text/plain": [
       "<IPython.core.display.Markdown object>"
      ],
      "text/markdown": "### Preliminary Analysis of Shoe Data\n\n#### Overall Data Characteristics:\n1. **Data Structure:**  The dataset consists of 6 entries (shoes) and 8 attributes (features). All features are of type `object`, indicating that they are categorical or textual data.\n2. **Missing Values:** There are no missing values in any of the columns, which is beneficial for analysis as it ensures completeness.\n3. **Memory Usage:** The dataset is relatively small, with a memory usage of approximately 516 bytes.\n\n#### Feature Analysis:\n1. **Name:**  Each shoe has a unique name, with no duplicates. This feature is essential for identifying individual shoes.\n2. **Brand:** All shoes belong to the same brand, Saucony. This limits the diversity of brand representation in the dataset but simplifies brand-related queries.\n3. **Description:** Each shoe has a unique description, which may provide insights into the shoe's purpose or target audience. However, the descriptions are lengthy and may require text processing for specific queries.\n4. **Other Features:** This feature contains additional details about the shoes, with unique values for each entry. It is crucial for understanding specific attributes that differentiate the shoes.\n5. **Offset:** This feature indicates the heel-to-toe drop. There are 3 unique values, with the most common being 8mm (4 occurrences). This feature is important for identifying shoes with specific performance characteristics.\n6. **Stack Height:** This feature has 5 unique values, indicating variability in shoe height. The most common stack height is 39.5mm/31.5mm (2 occurrences). This feature is relevant for understanding the shoe's cushioning and stability.\n7. **Cushioning:** There are 4 unique cushioning levels, with the most common being 3/5 (3 occurrences). This feature is important for performance and comfort analysis.\n8. **Foam Cushioning:** This feature has 5 unique values, with PWRRUN PB being the most common (2 occurrences). This is significant for identifying shoes with specific foam technologies.\n\n#### Use Case Insights:\n- **Offset Lower than 8mm:**  The shoes with an offset lower than 8mm can be identified by filtering the Offset feature. Currently, 4 shoes have an offset of 8mm, and the remaining shoes may have offsets that are lower.\n- **PWRRUN PB Foam Cushioning:**  To find shoes with PWRRUN PB foam cushioning, we can filter the Foam Cushioning feature. Currently, 2 shoes have this type of foam cushioning.\n- **Carbon Plate in Other Features:**  To identify shoes with a carbon plate, we can search the Other Features column for the term \"carbon plate.\" Currently, only one shoe has a unique feature that mentions a carbon plate.\n\n### Conclusion:\nThe dataset provides a comprehensive overview of shoe attributes, with unique values across most features. The most important features for analysis include Offset, Foam Cushioning, and Other Features, as they directly relate to performance and technology. The uniformity in brand representation may limit broader market analysis but allows for focused insights on Saucony shoes."
     },
     "metadata": {},
     "output_type": "display_data"
    }
   ],
   "execution_count": 16
  },
  {
   "metadata": {
    "ExecuteTime": {
     "end_time": "2025-01-06T21:45:09.511555Z",
     "start_time": "2025-01-06T21:45:09.509686Z"
    }
   },
   "cell_type": "code",
   "source": "gdm = GraphDataModeler(llm=llm_dm, discovery=disc)",
   "id": "d2d1d515bbe96171",
   "outputs": [],
   "execution_count": 17
  },
  {
   "metadata": {
    "ExecuteTime": {
     "end_time": "2025-01-06T21:45:31.087574Z",
     "start_time": "2025-01-06T21:45:18.815699Z"
    }
   },
   "cell_type": "code",
   "source": "gdm.create_initial_model()",
   "id": "4cd786cf49beed63",
   "outputs": [
    {
     "name": "stdout",
     "output_type": "stream",
     "text": [
      "\u001B[1m> Generating Nodes...\u001B[00m\n",
      "\u001B[3mAttempts | 3  \u001B[0m\n",
      "Received \u001B[92mValid\u001B[00m Nodes\n",
      "Nodes\n",
      "* \u001B[96m(:Shoe)\u001B[00m   * \u001B[96m(:Brand)\u001B[00m \n",
      "\n",
      "\u001B[1m> Generating Data Model...\u001B[00m\n",
      "\u001B[3mAttempts | 1  \u001B[0m\n",
      "Received \u001B[92mValid\u001B[00m Data Model\n",
      "Nodes\n",
      "* \u001B[96m(:Shoe)\u001B[00m   * \u001B[96m(:Brand)\u001B[00m \n",
      "\n",
      "Relationships\n",
      "* \u001B[96m(:Shoe)-[:HAS_BRAND]->(:Brand)\u001B[00m   \n"
     ]
    },
    {
     "data": {
      "text/plain": [
       "DataModel(nodes=[Node(label='Shoe', properties=[Property(name='name', type='str', column_mapping='Name', alias=None, is_unique=True, part_of_key=False), Property(name='description', type='str', column_mapping='Description', alias=None, is_unique=False, part_of_key=False), Property(name='otherFeatures', type='str', column_mapping='Other Features', alias=None, is_unique=False, part_of_key=False), Property(name='offset', type='str', column_mapping='Offset', alias=None, is_unique=False, part_of_key=False), Property(name='stackHeight', type='str', column_mapping='Stack Height', alias=None, is_unique=False, part_of_key=False), Property(name='cushioning', type='str', column_mapping='Cushioning', alias=None, is_unique=False, part_of_key=False), Property(name='foamCushioning', type='str', column_mapping='Foam Cushioning', alias=None, is_unique=False, part_of_key=False)], source_name='file'), Node(label='Brand', properties=[Property(name='brandName', type='str', column_mapping='Brand', alias=None, is_unique=True, part_of_key=False)], source_name='file')], relationships=[Relationship(type='HAS_BRAND', properties=[], source='Shoe', target='Brand', source_name='file')], metadata=None)"
      ]
     },
     "execution_count": 18,
     "metadata": {},
     "output_type": "execute_result"
    }
   ],
   "execution_count": 18
  },
  {
   "metadata": {
    "ExecuteTime": {
     "end_time": "2025-01-06T21:45:48.514328Z",
     "start_time": "2025-01-06T21:45:47.897573Z"
    }
   },
   "cell_type": "code",
   "source": "gdm.current_model.visualize()",
   "id": "236352fede62217b",
   "outputs": [
    {
     "data": {
      "image/svg+xml": "<?xml version=\"1.0\" encoding=\"UTF-8\" standalone=\"no\"?>\n<!DOCTYPE svg PUBLIC \"-//W3C//DTD SVG 1.1//EN\"\n \"http://www.w3.org/Graphics/SVG/1.1/DTD/svg11.dtd\">\n<!-- Generated by graphviz version 12.1.1 (20240910.0053)\n -->\n<!-- Pages: 1 -->\n<svg width=\"423pt\" height=\"380pt\"\n viewBox=\"0.00 0.00 423.43 380.47\" xmlns=\"http://www.w3.org/2000/svg\" xmlns:xlink=\"http://www.w3.org/1999/xlink\">\n<g id=\"graph0\" class=\"graph\" transform=\"scale(1 1) rotate(0) translate(36 344.47)\">\n<polygon fill=\"azure\" stroke=\"none\" points=\"-36,36 -36,-344.47 387.43,-344.47 387.43,36 -36,36\"/>\n<!-- Shoe -->\n<g id=\"node1\" class=\"node\">\n<title>Shoe</title>\n<ellipse fill=\"#c1cdcd\" stroke=\"black\" cx=\"175.72\" cy=\"-209.48\" rx=\"175.72\" ry=\"98.99\"/>\n<text text-anchor=\"middle\" x=\"175.72\" y=\"-262.18\" font-family=\"Times,serif\" font-size=\"14.00\">(:Shoe)</text>\n<text text-anchor=\"start\" x=\"59.47\" y=\"-245.68\" font-family=\"Times,serif\" font-size=\"14.00\">* name (Name): str | UNIQUE</text>\n<text text-anchor=\"start\" x=\"59.47\" y=\"-229.18\" font-family=\"Times,serif\" font-size=\"14.00\">* description (Description): str</text>\n<text text-anchor=\"start\" x=\"59.47\" y=\"-212.68\" font-family=\"Times,serif\" font-size=\"14.00\">* otherFeatures (Other Features): str</text>\n<text text-anchor=\"start\" x=\"59.47\" y=\"-196.18\" font-family=\"Times,serif\" font-size=\"14.00\">* offset (Offset): str</text>\n<text text-anchor=\"start\" x=\"59.47\" y=\"-179.68\" font-family=\"Times,serif\" font-size=\"14.00\">* stackHeight (Stack Height): str</text>\n<text text-anchor=\"start\" x=\"59.47\" y=\"-163.18\" font-family=\"Times,serif\" font-size=\"14.00\">* cushioning (Cushioning): str</text>\n<text text-anchor=\"start\" x=\"59.47\" y=\"-146.68\" font-family=\"Times,serif\" font-size=\"14.00\">* foamCushioning (Foam Cushioning): str</text>\n</g>\n<!-- Brand -->\n<g id=\"node2\" class=\"node\">\n<title>Brand</title>\n<ellipse fill=\"#c1cdcd\" stroke=\"black\" cx=\"175.72\" cy=\"-28.99\" rx=\"155.03\" ry=\"28.99\"/>\n<text text-anchor=\"middle\" x=\"175.72\" y=\"-32.19\" font-family=\"Times,serif\" font-size=\"14.00\">(:Brand)</text>\n<text text-anchor=\"start\" x=\"74.09\" y=\"-15.69\" font-family=\"Times,serif\" font-size=\"14.00\">* brandName (Brand): str | UNIQUE</text>\n</g>\n<!-- Shoe&#45;&gt;Brand -->\n<g id=\"edge1\" class=\"edge\">\n<title>Shoe&#45;&gt;Brand</title>\n<path fill=\"none\" stroke=\"black\" stroke-width=\"2\" d=\"M175.72,-110.1C175.72,-96.51 175.72,-83.2 175.72,-71.46\"/>\n<polygon fill=\"black\" stroke=\"black\" stroke-width=\"2\" points=\"179.22,-71.5 175.72,-61.5 172.22,-71.5 179.22,-71.5\"/>\n<text text-anchor=\"middle\" x=\"230.09\" y=\"-79.18\" font-family=\"Times,serif\" font-size=\"14.00\"> &#160;[:HAS_BRAND] &#160;</text>\n</g>\n</g>\n</svg>\n",
      "text/plain": [
       "<graphviz.graphs.Digraph at 0x15dbb1fa0>"
      ]
     },
     "execution_count": 19,
     "metadata": {},
     "output_type": "execute_result"
    }
   ],
   "execution_count": 19
  },
  {
   "metadata": {
    "ExecuteTime": {
     "end_time": "2025-01-06T21:47:15.034598Z",
     "start_time": "2025-01-06T21:47:05.656481Z"
    }
   },
   "cell_type": "code",
   "source": [
    "gdm.iterate_model(corrections=\"Create an Offset node with Offset property.\")\n",
    "gdm.current_model.visualize()"
   ],
   "id": "99858d1b3b5fdfe5",
   "outputs": [
    {
     "name": "stdout",
     "output_type": "stream",
     "text": [
      "\u001B[1m> Generating Data Model...\u001B[00m\n",
      "\u001B[3mAttempts | 2  \u001B[0m\n",
      "Received \u001B[92mValid\u001B[00m Data Model\n",
      "Nodes\n",
      "* \u001B[96m(:Shoe)\u001B[00m     * \u001B[96m(:Brand)\u001B[00m\n",
      "* \u001B[96m(:Offset)\u001B[00m    \n",
      "\n",
      "Relationships\n",
      "* \u001B[96m(:Shoe)-[:HAS_BRAND]->(:Brand)\u001B[00m     \n",
      "* \u001B[96m(:Shoe)-[:HAS_OFFSET]->(:Offset)\u001B[00m   \n"
     ]
    },
    {
     "data": {
      "image/svg+xml": "<?xml version=\"1.0\" encoding=\"UTF-8\" standalone=\"no\"?>\n<!DOCTYPE svg PUBLIC \"-//W3C//DTD SVG 1.1//EN\"\n \"http://www.w3.org/Graphics/SVG/1.1/DTD/svg11.dtd\">\n<!-- Generated by graphviz version 12.1.1 (20240910.0053)\n -->\n<!-- Pages: 1 -->\n<svg width=\"708pt\" height=\"357pt\"\n viewBox=\"0.00 0.00 708.01 357.14\" xmlns=\"http://www.w3.org/2000/svg\" xmlns:xlink=\"http://www.w3.org/1999/xlink\">\n<g id=\"graph0\" class=\"graph\" transform=\"scale(1 1) rotate(0) translate(36 321.14)\">\n<polygon fill=\"azure\" stroke=\"none\" points=\"-36,36 -36,-321.14 672.01,-321.14 672.01,36 -36,36\"/>\n<!-- Shoe -->\n<g id=\"node1\" class=\"node\">\n<title>Shoe</title>\n<ellipse fill=\"#c1cdcd\" stroke=\"black\" cx=\"318.03\" cy=\"-197.81\" rx=\"175.72\" ry=\"87.33\"/>\n<text text-anchor=\"middle\" x=\"318.03\" y=\"-242.26\" font-family=\"Times,serif\" font-size=\"14.00\">(:Shoe)</text>\n<text text-anchor=\"start\" x=\"201.78\" y=\"-225.76\" font-family=\"Times,serif\" font-size=\"14.00\">* name (Name): str | UNIQUE</text>\n<text text-anchor=\"start\" x=\"201.78\" y=\"-209.26\" font-family=\"Times,serif\" font-size=\"14.00\">* description (Description): str</text>\n<text text-anchor=\"start\" x=\"201.78\" y=\"-192.76\" font-family=\"Times,serif\" font-size=\"14.00\">* otherFeatures (Other Features): str</text>\n<text text-anchor=\"start\" x=\"201.78\" y=\"-176.26\" font-family=\"Times,serif\" font-size=\"14.00\">* stackHeight (Stack Height): str</text>\n<text text-anchor=\"start\" x=\"201.78\" y=\"-159.76\" font-family=\"Times,serif\" font-size=\"14.00\">* cushioning (Cushioning): str</text>\n<text text-anchor=\"start\" x=\"201.78\" y=\"-143.26\" font-family=\"Times,serif\" font-size=\"14.00\">* foamCushioning (Foam Cushioning): str</text>\n</g>\n<!-- Brand -->\n<g id=\"node2\" class=\"node\">\n<title>Brand</title>\n<ellipse fill=\"#c1cdcd\" stroke=\"black\" cx=\"155.03\" cy=\"-28.99\" rx=\"155.03\" ry=\"28.99\"/>\n<text text-anchor=\"middle\" x=\"155.03\" y=\"-32.19\" font-family=\"Times,serif\" font-size=\"14.00\">(:Brand)</text>\n<text text-anchor=\"start\" x=\"53.41\" y=\"-15.69\" font-family=\"Times,serif\" font-size=\"14.00\">* brandName (Brand): str | UNIQUE</text>\n</g>\n<!-- Shoe&#45;&gt;Brand -->\n<g id=\"edge1\" class=\"edge\">\n<title>Shoe&#45;&gt;Brand</title>\n<path fill=\"none\" stroke=\"black\" stroke-width=\"2\" d=\"M241.78,-118.77C224.08,-100.66 206.05,-82.2 191.04,-66.84\"/>\n<polygon fill=\"black\" stroke=\"black\" stroke-width=\"2\" points=\"193.72,-64.58 184.23,-59.87 188.72,-69.47 193.72,-64.58\"/>\n<text text-anchor=\"middle\" x=\"266.78\" y=\"-79.18\" font-family=\"Times,serif\" font-size=\"14.00\"> &#160;[:HAS_BRAND] &#160;</text>\n</g>\n<!-- Offset -->\n<g id=\"node3\" class=\"node\">\n<title>Offset</title>\n<ellipse fill=\"#c1cdcd\" stroke=\"black\" cx=\"482.03\" cy=\"-28.99\" rx=\"153.97\" ry=\"28.99\"/>\n<text text-anchor=\"middle\" x=\"482.03\" y=\"-32.19\" font-family=\"Times,serif\" font-size=\"14.00\">(:Offset)</text>\n<text text-anchor=\"start\" x=\"381.16\" y=\"-15.69\" font-family=\"Times,serif\" font-size=\"14.00\">* offsetValue (Offset): str | UNIQUE</text>\n</g>\n<!-- Shoe&#45;&gt;Offset -->\n<g id=\"edge2\" class=\"edge\">\n<title>Shoe&#45;&gt;Offset</title>\n<path fill=\"none\" stroke=\"black\" stroke-width=\"2\" d=\"M394.75,-118.77C412.56,-100.66 430.71,-82.2 445.81,-66.84\"/>\n<polygon fill=\"black\" stroke=\"black\" stroke-width=\"2\" points=\"448.15,-69.45 452.66,-59.87 443.16,-64.55 448.15,-69.45\"/>\n<text text-anchor=\"middle\" x=\"488.7\" y=\"-79.18\" font-family=\"Times,serif\" font-size=\"14.00\"> &#160;[:HAS_OFFSET] &#160;</text>\n</g>\n</g>\n</svg>\n",
      "text/plain": [
       "<graphviz.graphs.Digraph at 0x15b28a180>"
      ]
     },
     "execution_count": 20,
     "metadata": {},
     "output_type": "execute_result"
    }
   ],
   "execution_count": 20
  },
  {
   "metadata": {
    "ExecuteTime": {
     "end_time": "2025-01-06T21:47:59.267152Z",
     "start_time": "2025-01-06T21:47:54.322796Z"
    }
   },
   "cell_type": "code",
   "source": [
    "gdm.iterate_model(corrections=\"Add stack height property to Offset node.\")\n",
    "gdm.current_model.visualize()"
   ],
   "id": "345aeba4300ae38e",
   "outputs": [
    {
     "name": "stdout",
     "output_type": "stream",
     "text": [
      "\u001B[1m> Generating Data Model...\u001B[00m\n",
      "\u001B[3mAttempts | 1  \u001B[0m\n",
      "Received \u001B[92mValid\u001B[00m Data Model\n",
      "Nodes\n",
      "* \u001B[96m(:Shoe)\u001B[00m     * \u001B[96m(:Brand)\u001B[00m\n",
      "* \u001B[96m(:Offset)\u001B[00m    \n",
      "\n",
      "Relationships\n",
      "* \u001B[96m(:Shoe)-[:HAS_BRAND]->(:Brand)\u001B[00m     \n",
      "* \u001B[96m(:Shoe)-[:HAS_OFFSET]->(:Offset)\u001B[00m   \n"
     ]
    },
    {
     "data": {
      "image/svg+xml": "<?xml version=\"1.0\" encoding=\"UTF-8\" standalone=\"no\"?>\n<!DOCTYPE svg PUBLIC \"-//W3C//DTD SVG 1.1//EN\"\n \"http://www.w3.org/Graphics/SVG/1.1/DTD/svg11.dtd\">\n<!-- Generated by graphviz version 12.1.1 (20240910.0053)\n -->\n<!-- Pages: 1 -->\n<svg width=\"708pt\" height=\"357pt\"\n viewBox=\"0.00 0.00 708.01 357.14\" xmlns=\"http://www.w3.org/2000/svg\" xmlns:xlink=\"http://www.w3.org/1999/xlink\">\n<g id=\"graph0\" class=\"graph\" transform=\"scale(1 1) rotate(0) translate(36 321.14)\">\n<polygon fill=\"azure\" stroke=\"none\" points=\"-36,36 -36,-321.14 672.01,-321.14 672.01,36 -36,36\"/>\n<!-- Shoe -->\n<g id=\"node1\" class=\"node\">\n<title>Shoe</title>\n<ellipse fill=\"#c1cdcd\" stroke=\"black\" cx=\"318.03\" cy=\"-209.48\" rx=\"175.72\" ry=\"75.66\"/>\n<text text-anchor=\"middle\" x=\"318.03\" y=\"-245.68\" font-family=\"Times,serif\" font-size=\"14.00\">(:Shoe)</text>\n<text text-anchor=\"start\" x=\"201.78\" y=\"-229.18\" font-family=\"Times,serif\" font-size=\"14.00\">* name (Name): str | UNIQUE</text>\n<text text-anchor=\"start\" x=\"201.78\" y=\"-212.68\" font-family=\"Times,serif\" font-size=\"14.00\">* description (Description): str</text>\n<text text-anchor=\"start\" x=\"201.78\" y=\"-196.18\" font-family=\"Times,serif\" font-size=\"14.00\">* otherFeatures (Other Features): str</text>\n<text text-anchor=\"start\" x=\"201.78\" y=\"-179.68\" font-family=\"Times,serif\" font-size=\"14.00\">* cushioning (Cushioning): str</text>\n<text text-anchor=\"start\" x=\"201.78\" y=\"-163.18\" font-family=\"Times,serif\" font-size=\"14.00\">* foamCushioning (Foam Cushioning): str</text>\n</g>\n<!-- Brand -->\n<g id=\"node2\" class=\"node\">\n<title>Brand</title>\n<ellipse fill=\"#c1cdcd\" stroke=\"black\" cx=\"155.03\" cy=\"-40.66\" rx=\"155.03\" ry=\"28.99\"/>\n<text text-anchor=\"middle\" x=\"155.03\" y=\"-43.86\" font-family=\"Times,serif\" font-size=\"14.00\">(:Brand)</text>\n<text text-anchor=\"start\" x=\"53.41\" y=\"-27.36\" font-family=\"Times,serif\" font-size=\"14.00\">* brandName (Brand): str | UNIQUE</text>\n</g>\n<!-- Shoe&#45;&gt;Brand -->\n<g id=\"edge1\" class=\"edge\">\n<title>Shoe&#45;&gt;Brand</title>\n<path fill=\"none\" stroke=\"black\" stroke-width=\"2\" d=\"M250.32,-139.18C229.91,-118.29 208.32,-96.19 190.85,-78.32\"/>\n<polygon fill=\"black\" stroke=\"black\" stroke-width=\"2\" points=\"193.73,-76.26 184.24,-71.55 188.73,-81.15 193.73,-76.26\"/>\n<text text-anchor=\"middle\" x=\"281.15\" y=\"-102.52\" font-family=\"Times,serif\" font-size=\"14.00\"> &#160;[:HAS_BRAND] &#160;</text>\n</g>\n<!-- Offset -->\n<g id=\"node3\" class=\"node\">\n<title>Offset</title>\n<ellipse fill=\"#c1cdcd\" stroke=\"black\" cx=\"482.03\" cy=\"-40.66\" rx=\"153.97\" ry=\"40.66\"/>\n<text text-anchor=\"middle\" x=\"482.03\" y=\"-52.11\" font-family=\"Times,serif\" font-size=\"14.00\">(:Offset)</text>\n<text text-anchor=\"start\" x=\"381.16\" y=\"-35.61\" font-family=\"Times,serif\" font-size=\"14.00\">* offsetValue (Offset): str | UNIQUE</text>\n<text text-anchor=\"start\" x=\"381.16\" y=\"-19.11\" font-family=\"Times,serif\" font-size=\"14.00\">* stackHeight (Stack Height): str</text>\n</g>\n<!-- Shoe&#45;&gt;Offset -->\n<g id=\"edge2\" class=\"edge\">\n<title>Shoe&#45;&gt;Offset</title>\n<path fill=\"none\" stroke=\"black\" stroke-width=\"2\" d=\"M385.69,-139.66C402.35,-122.71 419.84,-104.92 435.27,-89.23\"/>\n<polygon fill=\"black\" stroke=\"black\" stroke-width=\"2\" points=\"437.46,-91.99 441.97,-82.41 432.47,-87.08 437.46,-91.99\"/>\n<text text-anchor=\"middle\" x=\"479.43\" y=\"-102.52\" font-family=\"Times,serif\" font-size=\"14.00\"> &#160;[:HAS_OFFSET] &#160;</text>\n</g>\n</g>\n</svg>\n",
      "text/plain": [
       "<graphviz.graphs.Digraph at 0x15dbb2cc0>"
      ]
     },
     "execution_count": 21,
     "metadata": {},
     "output_type": "execute_result"
    }
   ],
   "execution_count": 21
  },
  {
   "metadata": {
    "ExecuteTime": {
     "end_time": "2025-01-06T21:49:11.261971Z",
     "start_time": "2025-01-06T21:49:06.690681Z"
    }
   },
   "cell_type": "code",
   "source": [
    "gdm.iterate_model(corrections=\"Create a Cushioning node with Cushioning property.\")\n",
    "gdm.current_model.visualize()"
   ],
   "id": "7723a9e12e257b84",
   "outputs": [
    {
     "name": "stdout",
     "output_type": "stream",
     "text": [
      "\u001B[1m> Generating Data Model...\u001B[00m\n",
      "\u001B[3mAttempts | 1  \u001B[0m\n",
      "Received \u001B[92mValid\u001B[00m Data Model\n",
      "Nodes\n",
      "* \u001B[96m(:Shoe)\u001B[00m     * \u001B[96m(:Brand)\u001B[00m\n",
      "* \u001B[96m(:Offset)\u001B[00m   * \u001B[96m(:Cushioning)\u001B[00m \n",
      "\n",
      "Relationships\n",
      "* \u001B[96m(:Shoe)-[:HAS_BRAND]->(:Brand)\u001B[00m             \n",
      "* \u001B[96m(:Shoe)-[:HAS_OFFSET]->(:Offset)\u001B[00m           \n",
      "* \u001B[96m(:Shoe)-[:HAS_CUSHIONING]->(:Cushioning)\u001B[00m   \n"
     ]
    },
    {
     "data": {
      "image/svg+xml": "<?xml version=\"1.0\" encoding=\"UTF-8\" standalone=\"no\"?>\n<!DOCTYPE svg PUBLIC \"-//W3C//DTD SVG 1.1//EN\"\n \"http://www.w3.org/Graphics/SVG/1.1/DTD/svg11.dtd\">\n<!-- Generated by graphviz version 12.1.1 (20240910.0053)\n -->\n<!-- Pages: 1 -->\n<svg width=\"1114pt\" height=\"334pt\"\n viewBox=\"0.00 0.00 1114.31 333.80\" xmlns=\"http://www.w3.org/2000/svg\" xmlns:xlink=\"http://www.w3.org/1999/xlink\">\n<g id=\"graph0\" class=\"graph\" transform=\"scale(1 1) rotate(0) translate(36 297.8)\">\n<polygon fill=\"azure\" stroke=\"none\" points=\"-36,36 -36,-297.8 1078.31,-297.8 1078.31,36 -36,36\"/>\n<!-- Shoe -->\n<g id=\"node1\" class=\"node\">\n<title>Shoe</title>\n<ellipse fill=\"#c1cdcd\" stroke=\"black\" cx=\"482.03\" cy=\"-197.81\" rx=\"175.72\" ry=\"63.99\"/>\n<text text-anchor=\"middle\" x=\"482.03\" y=\"-225.76\" font-family=\"Times,serif\" font-size=\"14.00\">(:Shoe)</text>\n<text text-anchor=\"start\" x=\"365.78\" y=\"-209.26\" font-family=\"Times,serif\" font-size=\"14.00\">* name (Name): str | UNIQUE</text>\n<text text-anchor=\"start\" x=\"365.78\" y=\"-192.76\" font-family=\"Times,serif\" font-size=\"14.00\">* description (Description): str</text>\n<text text-anchor=\"start\" x=\"365.78\" y=\"-176.26\" font-family=\"Times,serif\" font-size=\"14.00\">* otherFeatures (Other Features): str</text>\n<text text-anchor=\"start\" x=\"365.78\" y=\"-159.76\" font-family=\"Times,serif\" font-size=\"14.00\">* foamCushioning (Foam Cushioning): str</text>\n</g>\n<!-- Brand -->\n<g id=\"node2\" class=\"node\">\n<title>Brand</title>\n<ellipse fill=\"#c1cdcd\" stroke=\"black\" cx=\"155.03\" cy=\"-40.66\" rx=\"155.03\" ry=\"28.99\"/>\n<text text-anchor=\"middle\" x=\"155.03\" y=\"-43.86\" font-family=\"Times,serif\" font-size=\"14.00\">(:Brand)</text>\n<text text-anchor=\"start\" x=\"53.41\" y=\"-27.36\" font-family=\"Times,serif\" font-size=\"14.00\">* brandName (Brand): str | UNIQUE</text>\n</g>\n<!-- Shoe&#45;&gt;Brand -->\n<g id=\"edge1\" class=\"edge\">\n<title>Shoe&#45;&gt;Brand</title>\n<path fill=\"none\" stroke=\"black\" stroke-width=\"2\" d=\"M375.87,-146.44C325.36,-122.48 266.51,-94.55 222.26,-73.56\"/>\n<polygon fill=\"black\" stroke=\"black\" stroke-width=\"2\" points=\"224.04,-70.52 213.5,-69.4 221.04,-76.85 224.04,-70.52\"/>\n<text text-anchor=\"middle\" x=\"363.1\" y=\"-102.52\" font-family=\"Times,serif\" font-size=\"14.00\"> &#160;[:HAS_BRAND] &#160;</text>\n</g>\n<!-- Offset -->\n<g id=\"node3\" class=\"node\">\n<title>Offset</title>\n<ellipse fill=\"#c1cdcd\" stroke=\"black\" cx=\"482.03\" cy=\"-40.66\" rx=\"153.97\" ry=\"40.66\"/>\n<text text-anchor=\"middle\" x=\"482.03\" y=\"-52.11\" font-family=\"Times,serif\" font-size=\"14.00\">(:Offset)</text>\n<text text-anchor=\"start\" x=\"381.16\" y=\"-35.61\" font-family=\"Times,serif\" font-size=\"14.00\">* offsetValue (Offset): str | UNIQUE</text>\n<text text-anchor=\"start\" x=\"381.16\" y=\"-19.11\" font-family=\"Times,serif\" font-size=\"14.00\">* stackHeight (Stack Height): str</text>\n</g>\n<!-- Shoe&#45;&gt;Offset -->\n<g id=\"edge2\" class=\"edge\">\n<title>Shoe&#45;&gt;Offset</title>\n<path fill=\"none\" stroke=\"black\" stroke-width=\"2\" d=\"M482.03,-133.7C482.03,-120.63 482.03,-106.98 482.03,-94.33\"/>\n<polygon fill=\"black\" stroke=\"black\" stroke-width=\"2\" points=\"485.53,-94.59 482.03,-84.59 478.53,-94.59 485.53,-94.59\"/>\n<text text-anchor=\"middle\" x=\"537.16\" y=\"-102.52\" font-family=\"Times,serif\" font-size=\"14.00\"> &#160;[:HAS_OFFSET] &#160;</text>\n</g>\n<!-- Cushioning -->\n<g id=\"node4\" class=\"node\">\n<title>Cushioning</title>\n<ellipse fill=\"#c1cdcd\" stroke=\"black\" cx=\"848.03\" cy=\"-40.66\" rx=\"194.28\" ry=\"28.99\"/>\n<text text-anchor=\"middle\" x=\"848.03\" y=\"-43.86\" font-family=\"Times,serif\" font-size=\"14.00\">(:Cushioning)</text>\n<text text-anchor=\"start\" x=\"718.66\" y=\"-27.36\" font-family=\"Times,serif\" font-size=\"14.00\">* cushioningLevel (Cushioning): str | UNIQUE</text>\n</g>\n<!-- Shoe&#45;&gt;Cushioning -->\n<g id=\"edge3\" class=\"edge\">\n<title>Shoe&#45;&gt;Cushioning</title>\n<path fill=\"none\" stroke=\"black\" stroke-width=\"2\" d=\"M595.83,-148.57C653.43,-124.15 721.76,-95.19 772.76,-73.57\"/>\n<polygon fill=\"black\" stroke=\"black\" stroke-width=\"2\" points=\"774.05,-76.82 781.89,-69.7 771.31,-70.38 774.05,-76.82\"/>\n<text text-anchor=\"middle\" x=\"781.33\" y=\"-102.52\" font-family=\"Times,serif\" font-size=\"14.00\"> &#160;[:HAS_CUSHIONING] &#160;</text>\n</g>\n</g>\n</svg>\n",
      "text/plain": [
       "<graphviz.graphs.Digraph at 0x15dbb3f50>"
      ]
     },
     "execution_count": 22,
     "metadata": {},
     "output_type": "execute_result"
    }
   ],
   "execution_count": 22
  },
  {
   "metadata": {
    "ExecuteTime": {
     "end_time": "2025-01-06T21:49:46.224540Z",
     "start_time": "2025-01-06T21:49:39.673808Z"
    }
   },
   "cell_type": "code",
   "source": [
    "gdm.iterate_model(corrections=\"Add foam cushioning property to Cushioning node.\")\n",
    "gdm.current_model.visualize()"
   ],
   "id": "aa4de2d111dbfd18",
   "outputs": [
    {
     "name": "stdout",
     "output_type": "stream",
     "text": [
      "\u001B[1m> Generating Data Model...\u001B[00m\n",
      "\u001B[3mAttempts | 1  \u001B[0m\n",
      "Received \u001B[92mValid\u001B[00m Data Model\n",
      "Nodes\n",
      "* \u001B[96m(:Shoe)\u001B[00m         * \u001B[96m(:Brand)\u001B[00m\n",
      "* \u001B[96m(:Offset)\u001B[00m       * \u001B[96m(:StackHeight)\u001B[00m\n",
      "* \u001B[96m(:Cushioning)\u001B[00m    \n",
      "\n",
      "Relationships\n",
      "* \u001B[96m(:Shoe)-[:HAS_BRAND]->(:Brand)\u001B[00m                \n",
      "* \u001B[96m(:Shoe)-[:HAS_OFFSET]->(:Offset)\u001B[00m              \n",
      "* \u001B[96m(:Shoe)-[:HAS_STACK_HEIGHT]->(:StackHeight)\u001B[00m   \n",
      "* \u001B[96m(:Shoe)-[:HAS_CUSHIONING]->(:Cushioning)\u001B[00m      \n"
     ]
    },
    {
     "data": {
      "image/svg+xml": "<?xml version=\"1.0\" encoding=\"UTF-8\" standalone=\"no\"?>\n<!DOCTYPE svg PUBLIC \"-//W3C//DTD SVG 1.1//EN\"\n \"http://www.w3.org/Graphics/SVG/1.1/DTD/svg11.dtd\">\n<!-- Generated by graphviz version 12.1.1 (20240910.0053)\n -->\n<!-- Pages: 1 -->\n<svg width=\"1540pt\" height=\"310pt\"\n viewBox=\"0.00 0.00 1540.31 310.47\" xmlns=\"http://www.w3.org/2000/svg\" xmlns:xlink=\"http://www.w3.org/1999/xlink\">\n<g id=\"graph0\" class=\"graph\" transform=\"scale(1 1) rotate(0) translate(36 274.47)\">\n<polygon fill=\"azure\" stroke=\"none\" points=\"-36,36 -36,-274.47 1504.31,-274.47 1504.31,36 -36,36\"/>\n<!-- Shoe -->\n<g id=\"node1\" class=\"node\">\n<title>Shoe</title>\n<ellipse fill=\"#c1cdcd\" stroke=\"black\" cx=\"670.03\" cy=\"-186.14\" rx=\"151.32\" ry=\"52.33\"/>\n<text text-anchor=\"middle\" x=\"670.03\" y=\"-205.84\" font-family=\"Times,serif\" font-size=\"14.00\">(:Shoe)</text>\n<text text-anchor=\"start\" x=\"571.03\" y=\"-189.34\" font-family=\"Times,serif\" font-size=\"14.00\">* name (Name): str | UNIQUE</text>\n<text text-anchor=\"start\" x=\"571.03\" y=\"-172.84\" font-family=\"Times,serif\" font-size=\"14.00\">* description (Description): str</text>\n<text text-anchor=\"start\" x=\"571.03\" y=\"-156.34\" font-family=\"Times,serif\" font-size=\"14.00\">* otherFeatures (Other Features): str</text>\n</g>\n<!-- Brand -->\n<g id=\"node2\" class=\"node\">\n<title>Brand</title>\n<ellipse fill=\"#c1cdcd\" stroke=\"black\" cx=\"155.03\" cy=\"-40.66\" rx=\"155.03\" ry=\"28.99\"/>\n<text text-anchor=\"middle\" x=\"155.03\" y=\"-43.86\" font-family=\"Times,serif\" font-size=\"14.00\">(:Brand)</text>\n<text text-anchor=\"start\" x=\"53.41\" y=\"-27.36\" font-family=\"Times,serif\" font-size=\"14.00\">* brandName (Brand): str | UNIQUE</text>\n</g>\n<!-- Shoe&#45;&gt;Brand -->\n<g id=\"edge1\" class=\"edge\">\n<title>Shoe&#45;&gt;Brand</title>\n<path fill=\"none\" stroke=\"black\" stroke-width=\"2\" d=\"M553.17,-152.58C462.23,-127.25 337.53,-92.51 252.06,-68.69\"/>\n<polygon fill=\"black\" stroke=\"black\" stroke-width=\"2\" points=\"253.23,-65.38 242.66,-66.07 251.35,-72.13 253.23,-65.38\"/>\n<text text-anchor=\"middle\" x=\"466.91\" y=\"-102.52\" font-family=\"Times,serif\" font-size=\"14.00\"> &#160;[:HAS_BRAND] &#160;</text>\n</g>\n<!-- Offset -->\n<g id=\"node3\" class=\"node\">\n<title>Offset</title>\n<ellipse fill=\"#c1cdcd\" stroke=\"black\" cx=\"482.03\" cy=\"-40.66\" rx=\"153.97\" ry=\"28.99\"/>\n<text text-anchor=\"middle\" x=\"482.03\" y=\"-43.86\" font-family=\"Times,serif\" font-size=\"14.00\">(:Offset)</text>\n<text text-anchor=\"start\" x=\"381.16\" y=\"-27.36\" font-family=\"Times,serif\" font-size=\"14.00\">* offsetValue (Offset): str | UNIQUE</text>\n</g>\n<!-- Shoe&#45;&gt;Offset -->\n<g id=\"edge2\" class=\"edge\">\n<title>Shoe&#45;&gt;Offset</title>\n<path fill=\"none\" stroke=\"black\" stroke-width=\"2\" d=\"M608.21,-137.96C582.2,-118.11 552.46,-95.41 528.38,-77.03\"/>\n<polygon fill=\"black\" stroke=\"black\" stroke-width=\"2\" points=\"530.57,-74.3 520.5,-71.02 526.33,-79.87 530.57,-74.3\"/>\n<text text-anchor=\"middle\" x=\"631.16\" y=\"-102.52\" font-family=\"Times,serif\" font-size=\"14.00\"> &#160;[:HAS_OFFSET] &#160;</text>\n</g>\n<!-- StackHeight -->\n<g id=\"node4\" class=\"node\">\n<title>StackHeight</title>\n<ellipse fill=\"#c1cdcd\" stroke=\"black\" cx=\"858.03\" cy=\"-40.66\" rx=\"203.82\" ry=\"28.99\"/>\n<text text-anchor=\"middle\" x=\"858.03\" y=\"-43.86\" font-family=\"Times,serif\" font-size=\"14.00\">(:StackHeight)</text>\n<text text-anchor=\"start\" x=\"721.91\" y=\"-27.36\" font-family=\"Times,serif\" font-size=\"14.00\">* stackHeightValue (Stack Height): str | UNIQUE</text>\n</g>\n<!-- Shoe&#45;&gt;StackHeight -->\n<g id=\"edge3\" class=\"edge\">\n<title>Shoe&#45;&gt;StackHeight</title>\n<path fill=\"none\" stroke=\"black\" stroke-width=\"2\" d=\"M731.85,-137.96C757.68,-118.25 787.18,-95.73 811.17,-77.43\"/>\n<polygon fill=\"black\" stroke=\"black\" stroke-width=\"2\" points=\"813.19,-80.29 819.02,-71.44 808.94,-74.72 813.19,-80.29\"/>\n<text text-anchor=\"middle\" x=\"862.25\" y=\"-102.52\" font-family=\"Times,serif\" font-size=\"14.00\"> &#160;[:HAS_STACK_HEIGHT] &#160;</text>\n</g>\n<!-- Cushioning -->\n<g id=\"node5\" class=\"node\">\n<title>Cushioning</title>\n<ellipse fill=\"#c1cdcd\" stroke=\"black\" cx=\"1274.03\" cy=\"-40.66\" rx=\"194.28\" ry=\"40.66\"/>\n<text text-anchor=\"middle\" x=\"1274.03\" y=\"-52.11\" font-family=\"Times,serif\" font-size=\"14.00\">(:Cushioning)</text>\n<text text-anchor=\"start\" x=\"1144.66\" y=\"-35.61\" font-family=\"Times,serif\" font-size=\"14.00\">* cushioningLevel (Cushioning): str | UNIQUE</text>\n<text text-anchor=\"start\" x=\"1144.66\" y=\"-19.11\" font-family=\"Times,serif\" font-size=\"14.00\">* foamCushioning (Foam Cushioning): str</text>\n</g>\n<!-- Shoe&#45;&gt;Cushioning -->\n<g id=\"edge4\" class=\"edge\">\n<title>Shoe&#45;&gt;Cushioning</title>\n<path fill=\"none\" stroke=\"black\" stroke-width=\"2\" d=\"M793.72,-155.76C892.8,-132.22 1031.78,-99.21 1134.76,-74.74\"/>\n<polygon fill=\"black\" stroke=\"black\" stroke-width=\"2\" points=\"1135.27,-78.22 1144.19,-72.5 1133.65,-71.41 1135.27,-78.22\"/>\n<text text-anchor=\"middle\" x=\"1098.88\" y=\"-102.52\" font-family=\"Times,serif\" font-size=\"14.00\"> &#160;[:HAS_CUSHIONING] &#160;</text>\n</g>\n</g>\n</svg>\n",
      "text/plain": [
       "<graphviz.graphs.Digraph at 0x15dbb2f30>"
      ]
     },
     "execution_count": 23,
     "metadata": {},
     "output_type": "execute_result"
    }
   ],
   "execution_count": 23
  },
  {
   "metadata": {
    "ExecuteTime": {
     "end_time": "2025-01-06T21:50:39.109687Z",
     "start_time": "2025-01-06T21:50:32.702634Z"
    }
   },
   "cell_type": "code",
   "source": [
    "gdm.iterate_model(corrections=\"Remove Brand node and add Brand property to Shoe node.\")\n",
    "gdm.current_model.visualize()"
   ],
   "id": "a9f9cbd0c28566a6",
   "outputs": [
    {
     "name": "stdout",
     "output_type": "stream",
     "text": [
      "\u001B[1m> Generating Data Model...\u001B[00m\n",
      "\u001B[3mAttempts | 1  \u001B[0m\n",
      "Received \u001B[92mValid\u001B[00m Data Model\n",
      "Nodes\n",
      "* \u001B[96m(:Shoe)\u001B[00m          * \u001B[96m(:Offset)\u001B[00m\n",
      "* \u001B[96m(:StackHeight)\u001B[00m   * \u001B[96m(:Cushioning)\u001B[00m \n",
      "\n",
      "Relationships\n",
      "* \u001B[96m(:Shoe)-[:HAS_OFFSET]->(:Offset)\u001B[00m              \n",
      "* \u001B[96m(:Shoe)-[:HAS_STACK_HEIGHT]->(:StackHeight)\u001B[00m   \n",
      "* \u001B[96m(:Shoe)-[:HAS_CUSHIONING]->(:Cushioning)\u001B[00m      \n"
     ]
    },
    {
     "data": {
      "image/svg+xml": "<?xml version=\"1.0\" encoding=\"UTF-8\" standalone=\"no\"?>\n<!DOCTYPE svg PUBLIC \"-//W3C//DTD SVG 1.1//EN\"\n \"http://www.w3.org/Graphics/SVG/1.1/DTD/svg11.dtd\">\n<!-- Generated by graphviz version 12.1.1 (20240910.0053)\n -->\n<!-- Pages: 1 -->\n<svg width=\"1212pt\" height=\"334pt\"\n viewBox=\"0.00 0.00 1212.25 333.80\" xmlns=\"http://www.w3.org/2000/svg\" xmlns:xlink=\"http://www.w3.org/1999/xlink\">\n<g id=\"graph0\" class=\"graph\" transform=\"scale(1 1) rotate(0) translate(36 297.8)\">\n<polygon fill=\"azure\" stroke=\"none\" points=\"-36,36 -36,-297.8 1176.25,-297.8 1176.25,36 -36,36\"/>\n<!-- Shoe -->\n<g id=\"node1\" class=\"node\">\n<title>Shoe</title>\n<ellipse fill=\"#c1cdcd\" stroke=\"black\" cx=\"529.97\" cy=\"-197.81\" rx=\"151.32\" ry=\"63.99\"/>\n<text text-anchor=\"middle\" x=\"529.97\" y=\"-225.76\" font-family=\"Times,serif\" font-size=\"14.00\">(:Shoe)</text>\n<text text-anchor=\"start\" x=\"430.97\" y=\"-209.26\" font-family=\"Times,serif\" font-size=\"14.00\">* name (Name): str | UNIQUE</text>\n<text text-anchor=\"start\" x=\"430.97\" y=\"-192.76\" font-family=\"Times,serif\" font-size=\"14.00\">* description (Description): str</text>\n<text text-anchor=\"start\" x=\"430.97\" y=\"-176.26\" font-family=\"Times,serif\" font-size=\"14.00\">* otherFeatures (Other Features): str</text>\n<text text-anchor=\"start\" x=\"430.97\" y=\"-159.76\" font-family=\"Times,serif\" font-size=\"14.00\">* brand (Brand): str</text>\n</g>\n<!-- Offset -->\n<g id=\"node2\" class=\"node\">\n<title>Offset</title>\n<ellipse fill=\"#c1cdcd\" stroke=\"black\" cx=\"153.97\" cy=\"-40.66\" rx=\"153.97\" ry=\"28.99\"/>\n<text text-anchor=\"middle\" x=\"153.97\" y=\"-43.86\" font-family=\"Times,serif\" font-size=\"14.00\">(:Offset)</text>\n<text text-anchor=\"start\" x=\"53.1\" y=\"-27.36\" font-family=\"Times,serif\" font-size=\"14.00\">* offsetValue (Offset): str | UNIQUE</text>\n</g>\n<!-- Shoe&#45;&gt;Offset -->\n<g id=\"edge1\" class=\"edge\">\n<title>Shoe&#45;&gt;Offset</title>\n<path fill=\"none\" stroke=\"black\" stroke-width=\"2\" d=\"M422.48,-152.45C360.4,-126.84 283.89,-95.27 228.44,-72.39\"/>\n<polygon fill=\"black\" stroke=\"black\" stroke-width=\"2\" points=\"229.97,-69.23 219.39,-68.65 227.3,-75.7 229.97,-69.23\"/>\n<text text-anchor=\"middle\" x=\"385.82\" y=\"-102.52\" font-family=\"Times,serif\" font-size=\"14.00\"> &#160;[:HAS_OFFSET] &#160;</text>\n</g>\n<!-- StackHeight -->\n<g id=\"node3\" class=\"node\">\n<title>StackHeight</title>\n<ellipse fill=\"#c1cdcd\" stroke=\"black\" cx=\"529.97\" cy=\"-40.66\" rx=\"203.82\" ry=\"28.99\"/>\n<text text-anchor=\"middle\" x=\"529.97\" y=\"-43.86\" font-family=\"Times,serif\" font-size=\"14.00\">(:StackHeight)</text>\n<text text-anchor=\"start\" x=\"393.85\" y=\"-27.36\" font-family=\"Times,serif\" font-size=\"14.00\">* stackHeightValue (Stack Height): str | UNIQUE</text>\n</g>\n<!-- Shoe&#45;&gt;StackHeight -->\n<g id=\"edge2\" class=\"edge\">\n<title>Shoe&#45;&gt;StackHeight</title>\n<path fill=\"none\" stroke=\"black\" stroke-width=\"2\" d=\"M529.97,-133.7C529.97,-116.57 529.97,-98.47 529.97,-82.89\"/>\n<polygon fill=\"black\" stroke=\"black\" stroke-width=\"2\" points=\"533.47,-82.96 529.97,-72.96 526.47,-82.96 533.47,-82.96\"/>\n<text text-anchor=\"middle\" x=\"611.35\" y=\"-102.52\" font-family=\"Times,serif\" font-size=\"14.00\"> &#160;[:HAS_STACK_HEIGHT] &#160;</text>\n</g>\n<!-- Cushioning -->\n<g id=\"node4\" class=\"node\">\n<title>Cushioning</title>\n<ellipse fill=\"#c1cdcd\" stroke=\"black\" cx=\"945.97\" cy=\"-40.66\" rx=\"194.28\" ry=\"40.66\"/>\n<text text-anchor=\"middle\" x=\"945.97\" y=\"-52.11\" font-family=\"Times,serif\" font-size=\"14.00\">(:Cushioning)</text>\n<text text-anchor=\"start\" x=\"816.6\" y=\"-35.61\" font-family=\"Times,serif\" font-size=\"14.00\">* cushioningLevel (Cushioning): str | UNIQUE</text>\n<text text-anchor=\"start\" x=\"816.6\" y=\"-19.11\" font-family=\"Times,serif\" font-size=\"14.00\">* foamCushioning (Foam Cushioning): str</text>\n</g>\n<!-- Shoe&#45;&gt;Cushioning -->\n<g id=\"edge3\" class=\"edge\">\n<title>Shoe&#45;&gt;Cushioning</title>\n<path fill=\"none\" stroke=\"black\" stroke-width=\"2\" d=\"M642.82,-154.72C704.29,-131.8 779.89,-103.6 840.22,-81.1\"/>\n<polygon fill=\"black\" stroke=\"black\" stroke-width=\"2\" points=\"841.09,-84.51 849.24,-77.74 838.64,-77.95 841.09,-84.51\"/>\n<text text-anchor=\"middle\" x=\"860.22\" y=\"-102.52\" font-family=\"Times,serif\" font-size=\"14.00\"> &#160;[:HAS_CUSHIONING] &#160;</text>\n</g>\n</g>\n</svg>\n",
      "text/plain": [
       "<graphviz.graphs.Digraph at 0x15dbb27e0>"
      ]
     },
     "execution_count": 24,
     "metadata": {},
     "output_type": "execute_result"
    }
   ],
   "execution_count": 24
  },
  {
   "metadata": {
    "ExecuteTime": {
     "end_time": "2025-01-06T21:53:04.810906Z",
     "start_time": "2025-01-06T21:52:59.682423Z"
    }
   },
   "cell_type": "code",
   "source": [
    "gdm.iterate_model(corrections=\"Remove stack height node and add stack height property to Offset node.\")\n",
    "gdm.current_model.visualize()"
   ],
   "id": "bcd8723807e4efb1",
   "outputs": [
    {
     "name": "stdout",
     "output_type": "stream",
     "text": [
      "\u001B[1m> Generating Data Model...\u001B[00m\n",
      "\u001B[3mAttempts | 1  \u001B[0m\n",
      "Received \u001B[92mValid\u001B[00m Data Model\n",
      "Nodes\n",
      "* \u001B[96m(:Shoe)\u001B[00m         * \u001B[96m(:Offset)\u001B[00m\n",
      "* \u001B[96m(:Cushioning)\u001B[00m    \n",
      "\n",
      "Relationships\n",
      "* \u001B[96m(:Shoe)-[:HAS_OFFSET]->(:Offset)\u001B[00m           \n",
      "* \u001B[96m(:Shoe)-[:HAS_CUSHIONING]->(:Cushioning)\u001B[00m   \n"
     ]
    },
    {
     "data": {
      "image/svg+xml": "<?xml version=\"1.0\" encoding=\"UTF-8\" standalone=\"no\"?>\n<!DOCTYPE svg PUBLIC \"-//W3C//DTD SVG 1.1//EN\"\n \"http://www.w3.org/Graphics/SVG/1.1/DTD/svg11.dtd\">\n<!-- Generated by graphviz version 12.1.1 (20240910.0053)\n -->\n<!-- Pages: 1 -->\n<svg width=\"786pt\" height=\"334pt\"\n viewBox=\"0.00 0.00 786.25 333.80\" xmlns=\"http://www.w3.org/2000/svg\" xmlns:xlink=\"http://www.w3.org/1999/xlink\">\n<g id=\"graph0\" class=\"graph\" transform=\"scale(1 1) rotate(0) translate(36 297.8)\">\n<polygon fill=\"azure\" stroke=\"none\" points=\"-36,36 -36,-297.8 750.25,-297.8 750.25,36 -36,36\"/>\n<!-- Shoe -->\n<g id=\"node1\" class=\"node\">\n<title>Shoe</title>\n<ellipse fill=\"#c1cdcd\" stroke=\"black\" cx=\"336.97\" cy=\"-197.81\" rx=\"151.32\" ry=\"63.99\"/>\n<text text-anchor=\"middle\" x=\"336.97\" y=\"-225.76\" font-family=\"Times,serif\" font-size=\"14.00\">(:Shoe)</text>\n<text text-anchor=\"start\" x=\"237.97\" y=\"-209.26\" font-family=\"Times,serif\" font-size=\"14.00\">* name (Name): str | UNIQUE</text>\n<text text-anchor=\"start\" x=\"237.97\" y=\"-192.76\" font-family=\"Times,serif\" font-size=\"14.00\">* description (Description): str</text>\n<text text-anchor=\"start\" x=\"237.97\" y=\"-176.26\" font-family=\"Times,serif\" font-size=\"14.00\">* otherFeatures (Other Features): str</text>\n<text text-anchor=\"start\" x=\"237.97\" y=\"-159.76\" font-family=\"Times,serif\" font-size=\"14.00\">* brand (Brand): str</text>\n</g>\n<!-- Offset -->\n<g id=\"node2\" class=\"node\">\n<title>Offset</title>\n<ellipse fill=\"#c1cdcd\" stroke=\"black\" cx=\"153.97\" cy=\"-40.66\" rx=\"153.97\" ry=\"40.66\"/>\n<text text-anchor=\"middle\" x=\"153.97\" y=\"-52.11\" font-family=\"Times,serif\" font-size=\"14.00\">(:Offset)</text>\n<text text-anchor=\"start\" x=\"53.1\" y=\"-35.61\" font-family=\"Times,serif\" font-size=\"14.00\">* offsetValue (Offset): str | UNIQUE</text>\n<text text-anchor=\"start\" x=\"53.1\" y=\"-19.11\" font-family=\"Times,serif\" font-size=\"14.00\">* stackHeight (Stack Height): str</text>\n</g>\n<!-- Shoe&#45;&gt;Offset -->\n<g id=\"edge1\" class=\"edge\">\n<title>Shoe&#45;&gt;Offset</title>\n<path fill=\"none\" stroke=\"black\" stroke-width=\"2\" d=\"M270.13,-140.14C249.96,-123.04 228.06,-104.47 208.77,-88.12\"/>\n<polygon fill=\"black\" stroke=\"black\" stroke-width=\"2\" points=\"211.14,-85.54 201.25,-81.74 206.61,-90.88 211.14,-85.54\"/>\n<text text-anchor=\"middle\" x=\"295.11\" y=\"-102.52\" font-family=\"Times,serif\" font-size=\"14.00\"> &#160;[:HAS_OFFSET] &#160;</text>\n</g>\n<!-- Cushioning -->\n<g id=\"node3\" class=\"node\">\n<title>Cushioning</title>\n<ellipse fill=\"#c1cdcd\" stroke=\"black\" cx=\"519.97\" cy=\"-40.66\" rx=\"194.28\" ry=\"40.66\"/>\n<text text-anchor=\"middle\" x=\"519.97\" y=\"-52.11\" font-family=\"Times,serif\" font-size=\"14.00\">(:Cushioning)</text>\n<text text-anchor=\"start\" x=\"390.6\" y=\"-35.61\" font-family=\"Times,serif\" font-size=\"14.00\">* cushioningLevel (Cushioning): str | UNIQUE</text>\n<text text-anchor=\"start\" x=\"390.6\" y=\"-19.11\" font-family=\"Times,serif\" font-size=\"14.00\">* foamCushioning (Foam Cushioning): str</text>\n</g>\n<!-- Shoe&#45;&gt;Cushioning -->\n<g id=\"edge2\" class=\"edge\">\n<title>Shoe&#45;&gt;Cushioning</title>\n<path fill=\"none\" stroke=\"black\" stroke-width=\"2\" d=\"M403.82,-140.14C423.73,-123.26 445.32,-104.95 464.43,-88.75\"/>\n<polygon fill=\"black\" stroke=\"black\" stroke-width=\"2\" points=\"466.5,-91.58 471.86,-82.45 461.97,-86.25 466.5,-91.58\"/>\n<text text-anchor=\"middle\" x=\"523\" y=\"-102.52\" font-family=\"Times,serif\" font-size=\"14.00\"> &#160;[:HAS_CUSHIONING] &#160;</text>\n</g>\n</g>\n</svg>\n",
      "text/plain": [
       "<graphviz.graphs.Digraph at 0x15dba94f0>"
      ]
     },
     "execution_count": 25,
     "metadata": {},
     "output_type": "execute_result"
    }
   ],
   "execution_count": 25
  },
  {
   "metadata": {
    "ExecuteTime": {
     "end_time": "2025-01-06T22:13:33.624594Z",
     "start_time": "2025-01-06T22:13:29.684745Z"
    }
   },
   "cell_type": "code",
   "source": [
    "gdm.iterate_model(corrections=\"Remove stack height property from Offset node and add stack height propery to Shoe node.\")\n",
    "gdm.current_model.visualize()"
   ],
   "id": "99eb61b53963e4bb",
   "outputs": [
    {
     "name": "stdout",
     "output_type": "stream",
     "text": [
      "\u001B[1m> Generating Data Model...\u001B[00m\n",
      "\u001B[3mAttempts | 1  \u001B[0m\n",
      "Received \u001B[92mValid\u001B[00m Data Model\n",
      "Nodes\n",
      "* \u001B[96m(:Shoe)\u001B[00m         * \u001B[96m(:Offset)\u001B[00m\n",
      "* \u001B[96m(:Cushioning)\u001B[00m    \n",
      "\n",
      "Relationships\n",
      "* \u001B[96m(:Shoe)-[:HAS_OFFSET]->(:Offset)\u001B[00m           \n",
      "* \u001B[96m(:Shoe)-[:HAS_CUSHIONING]->(:Cushioning)\u001B[00m   \n"
     ]
    },
    {
     "data": {
      "image/svg+xml": "<?xml version=\"1.0\" encoding=\"UTF-8\" standalone=\"no\"?>\n<!DOCTYPE svg PUBLIC \"-//W3C//DTD SVG 1.1//EN\"\n \"http://www.w3.org/Graphics/SVG/1.1/DTD/svg11.dtd\">\n<!-- Generated by graphviz version 12.1.1 (20240910.0053)\n -->\n<!-- Pages: 1 -->\n<svg width=\"786pt\" height=\"357pt\"\n viewBox=\"0.00 0.00 786.25 357.14\" xmlns=\"http://www.w3.org/2000/svg\" xmlns:xlink=\"http://www.w3.org/1999/xlink\">\n<g id=\"graph0\" class=\"graph\" transform=\"scale(1 1) rotate(0) translate(36 321.14)\">\n<polygon fill=\"azure\" stroke=\"none\" points=\"-36,36 -36,-321.14 750.25,-321.14 750.25,36 -36,36\"/>\n<!-- Shoe -->\n<g id=\"node1\" class=\"node\">\n<title>Shoe</title>\n<ellipse fill=\"#c1cdcd\" stroke=\"black\" cx=\"336.97\" cy=\"-197.81\" rx=\"175.72\" ry=\"87.33\"/>\n<text text-anchor=\"middle\" x=\"336.97\" y=\"-242.26\" font-family=\"Times,serif\" font-size=\"14.00\">(:Shoe)</text>\n<text text-anchor=\"start\" x=\"220.72\" y=\"-225.76\" font-family=\"Times,serif\" font-size=\"14.00\">* name (Name): str | UNIQUE</text>\n<text text-anchor=\"start\" x=\"220.72\" y=\"-209.26\" font-family=\"Times,serif\" font-size=\"14.00\">* description (Description): str</text>\n<text text-anchor=\"start\" x=\"220.72\" y=\"-192.76\" font-family=\"Times,serif\" font-size=\"14.00\">* otherFeatures (Other Features): str</text>\n<text text-anchor=\"start\" x=\"220.72\" y=\"-176.26\" font-family=\"Times,serif\" font-size=\"14.00\">* brand (Brand): str</text>\n<text text-anchor=\"start\" x=\"220.72\" y=\"-159.76\" font-family=\"Times,serif\" font-size=\"14.00\">* foamCushioning (Foam Cushioning): str</text>\n<text text-anchor=\"start\" x=\"220.72\" y=\"-143.26\" font-family=\"Times,serif\" font-size=\"14.00\">* stackHeight (Stack Height): str</text>\n</g>\n<!-- Offset -->\n<g id=\"node2\" class=\"node\">\n<title>Offset</title>\n<ellipse fill=\"#c1cdcd\" stroke=\"black\" cx=\"153.97\" cy=\"-28.99\" rx=\"153.97\" ry=\"28.99\"/>\n<text text-anchor=\"middle\" x=\"153.97\" y=\"-32.19\" font-family=\"Times,serif\" font-size=\"14.00\">(:Offset)</text>\n<text text-anchor=\"start\" x=\"53.1\" y=\"-15.69\" font-family=\"Times,serif\" font-size=\"14.00\">* offsetValue (Offset): str | UNIQUE</text>\n</g>\n<!-- Shoe&#45;&gt;Offset -->\n<g id=\"edge1\" class=\"edge\">\n<title>Shoe&#45;&gt;Offset</title>\n<path fill=\"none\" stroke=\"black\" stroke-width=\"2\" d=\"M253.51,-120.72C232.67,-101.73 211.27,-82.22 193.68,-66.19\"/>\n<polygon fill=\"black\" stroke=\"black\" stroke-width=\"2\" points=\"196.31,-63.85 186.56,-59.7 191.59,-69.02 196.31,-63.85\"/>\n<text text-anchor=\"middle\" x=\"273.51\" y=\"-79.18\" font-family=\"Times,serif\" font-size=\"14.00\"> &#160;[:HAS_OFFSET] &#160;</text>\n</g>\n<!-- Cushioning -->\n<g id=\"node3\" class=\"node\">\n<title>Cushioning</title>\n<ellipse fill=\"#c1cdcd\" stroke=\"black\" cx=\"519.97\" cy=\"-28.99\" rx=\"194.28\" ry=\"28.99\"/>\n<text text-anchor=\"middle\" x=\"519.97\" y=\"-32.19\" font-family=\"Times,serif\" font-size=\"14.00\">(:Cushioning)</text>\n<text text-anchor=\"start\" x=\"390.6\" y=\"-15.69\" font-family=\"Times,serif\" font-size=\"14.00\">* cushioningLevel (Cushioning): str | UNIQUE</text>\n</g>\n<!-- Shoe&#45;&gt;Cushioning -->\n<g id=\"edge2\" class=\"edge\">\n<title>Shoe&#45;&gt;Cushioning</title>\n<path fill=\"none\" stroke=\"black\" stroke-width=\"2\" d=\"M420.44,-120.72C441.12,-101.87 462.35,-82.52 479.86,-66.55\"/>\n<polygon fill=\"black\" stroke=\"black\" stroke-width=\"2\" points=\"481.91,-69.42 486.95,-60.1 477.2,-64.25 481.91,-69.42\"/>\n<text text-anchor=\"middle\" x=\"538.65\" y=\"-79.18\" font-family=\"Times,serif\" font-size=\"14.00\"> &#160;[:HAS_CUSHIONING] &#160;</text>\n</g>\n</g>\n</svg>\n",
      "text/plain": [
       "<graphviz.graphs.Digraph at 0x15dbd34a0>"
      ]
     },
     "execution_count": 30,
     "metadata": {},
     "output_type": "execute_result"
    }
   ],
   "execution_count": 30
  },
  {
   "metadata": {
    "ExecuteTime": {
     "end_time": "2025-01-06T22:08:41.282247Z",
     "start_time": "2025-01-06T22:08:41.279894Z"
    }
   },
   "cell_type": "code",
   "source": "",
   "id": "45170c730b06dbe2",
   "outputs": [],
   "execution_count": 29
  },
  {
   "metadata": {},
   "cell_type": "code",
   "outputs": [],
   "execution_count": null,
   "source": "",
   "id": "d81113e6c236f9cf"
  }
 ],
 "metadata": {
  "kernelspec": {
   "display_name": "Python 3",
   "language": "python",
   "name": "python3"
  },
  "language_info": {
   "codemirror_mode": {
    "name": "ipython",
    "version": 2
   },
   "file_extension": ".py",
   "mimetype": "text/x-python",
   "name": "python",
   "nbconvert_exporter": "python",
   "pygments_lexer": "ipython2",
   "version": "2.7.6"
  }
 },
 "nbformat": 4,
 "nbformat_minor": 5
}
